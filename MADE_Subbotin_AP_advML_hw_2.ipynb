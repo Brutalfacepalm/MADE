{
 "cells": [
  {
   "cell_type": "code",
   "execution_count": 2,
   "metadata": {
    "scrolled": true
   },
   "outputs": [],
   "source": [
    "import random\n",
    "import numpy as np\n",
    "import pandas as pd\n",
    "import matplotlib.pyplot as plt\n",
    "import seaborn as sns\n",
    "import plotly\n",
    "from tqdm import tqdm\n",
    "import re\n",
    "import warnings\n",
    "import gc\n",
    "import scipy as sp\n",
    "from scipy.stats import norm\n",
    "from scipy.stats import spearmanr, kendalltau\n",
    "from IPython.display import clear_output\n",
    "\n",
    "\n",
    "from sklearn.preprocessing import MinMaxScaler\n",
    "from sklearn.linear_model import LogisticRegression\n",
    "from sklearn.metrics import accuracy_score, f1_score, r2_score, mean_absolute_error, mean_squared_error\n",
    "\n",
    "from xgboost import XGBRegressor\n",
    "\n",
    "warnings.filterwarnings(\"ignore\", category=np.VisibleDeprecationWarning)\n",
    "warnings.filterwarnings(\"ignore\", category=FutureWarning)"
   ]
  },
  {
   "cell_type": "code",
   "execution_count": 2,
   "metadata": {
    "scrolled": true
   },
   "outputs": [],
   "source": [
    "players = pd.DataFrame.from_dict(pd.read_pickle('players.pkl'), orient='index').reset_index()"
   ]
  },
  {
   "cell_type": "code",
   "execution_count": 3,
   "metadata": {},
   "outputs": [],
   "source": [
    "results = pd.read_pickle('results.pkl')"
   ]
  },
  {
   "cell_type": "code",
   "execution_count": 4,
   "metadata": {},
   "outputs": [],
   "source": [
    "tournaments = pd.DataFrame.from_dict(pd.read_pickle('tournaments.pkl'), orient='index').reset_index()"
   ]
  },
  {
   "cell_type": "markdown",
   "metadata": {},
   "source": [
    "## Навигация: <a class=\"anchor\" id=\"toc\"></a>\n",
    "[0. Введение](#introduction)\\\n",
    "[1. BaseLine модель](#baseline)\\\n",
    "[2. EM Алгоритм](#em)\\\n",
    "[3. EM алгоритм v.2](#em2)\\\n",
    "[4. Выводы](#conclusions)"
   ]
  },
  {
   "cell_type": "markdown",
   "metadata": {},
   "source": [
    "<a class=\"anchor\" id=\"introduction\"></a>\n",
    "[К оглавлению](#toc)\n",
    "\n",
    "# 0. Введение.\n",
    "\n",
    "### Что я знаю о ЧГК?\n",
    "Никогда не играл в спортивную версию ЧГК, но частенько играл в квизы и принимал участие в организации, что по сути есть развлекательная версия ЧГК для компаний. Смысл тот же: участники, команды, вопросы по турам, турнирная таблица. Разница существенная в том, что квиз больше развлекательная игра и там чаще вопросы одноходовки или вообще угадай мелодию или фильм по кадрам, ЧГК в этом плане серьезное мероприятие.\\\n",
    "По квизам тенденция такая, что команды, играющие хорошо, играют хорошо всегда, и чаще всего в командах есть костяк, к которому периодически присоединяются новички, но игры выигрывает в основном костяк. Новички могут внести сумбур в слаженную игру костяка, но чаще всего после этого они не играют уже. На квизах часто выигрывают команды, участники которой отвечают за свою конкретную сферу знайний, инженер, киноман, меломан и так далее. Поэтому на вопросах про кино \"топит\" именно киноман и так далее. В ЧГК, думаю, у хороших команд скорее всего аналогичная тенденция, человек не может знать все и хорошо одновременно.\\\n",
    "Сами квизы, если это одни и те же организаторы, редко отличаются по сложности от игры к игре, скорее стараются разнообразить саму игру, разбивая их сложности туров. Такого разнообразия по турнирам как в ЧГК тут нет. Но если взять разные квизы, то тут есть вариантивность по сложности. Некоторые квизы заточены под логику, другие под знания, тертьи на \"поугарать\". И чаще всего, команда, идущая постоянно в топе на \"логических\" квизах, не очень уверенно выступает на квизах по знаниям(поэтому я не люблю КвизПлиз - чаще всего или знаешь, или пошел я). Это я к тому, что как в квизе, как и в ЧГК, существует разбивка по сложности в зависимости от типа игры.\n",
    "\n",
    "### Что я узнал о ЧГК?\n",
    "Количество человек в команде ограничено 6 сверху, хотя есть случаи когда в турнирах принимали участие команды с большим фактическим числом игроков, но \"за столом\" принимать участия могут не более 6.\\\n",
    "У каждого игрока есть свой статус и рейтинг. Игрок может быть, например, капитаном, или легионером. Число легионеров в составе команды негативно сказывается на ее рейтинге по итогам игры.\\\n",
    "Команды зачастую имеют четкий базовый состав, могут менять состав и названия для каждой игры, но высокорейтинговые команды редко этим занимаются.\n",
    "Турниры отличаются не только по своей сложности но и формату, продолжительности, охвату географии, числу команд и вопросов.\n",
    "\n",
    "### Что содержится в данных?\n",
    "Есть 3 файла с данными. \n",
    "1. __Игроки.__ Тут данные самих иргоков, ничего полезного я тут не увидел. Имена, фамилии, рейтинг, который никак особо к модели не прикрутить.\n",
    "2. __Турниры.__ Тут полезной информации больше. Есть id турнира, для сопоставления с другими таблицами. Есть дата начала и окончания турнира, есть информация о числе туров и числе вопросов в каждом туре.\n",
    "3. __Рузльтаты.__ Самые полезные данные. Тут куча информации по турнирам и командам, которые приняли участие в конкретном турнире. Рузльтаты команды, ее повопросные ответы(1/0), число правильных ответов и занятое место по итогам турнира. Для каждой комнады указан город, основное название и название для текущего турнира. Так же есть тип команды(это может быть, например, школьная или студенческая комнада). Для каждой команды на конкретном турнире указан состав, с метками о статусе игрока. \n",
    "\n",
    "### Что я сделал с данными?\n",
    "Для начала, я агрегировал 2 таблицы: турниры и результаты. Из них взял полезную, на мой взгляд, информацию:\n",
    " - id турнира\n",
    " - id команды\n",
    " - ids игроков\n",
    " - тип турнира\n",
    " - продолжительность\n",
    " - информация по турам на турнире\n",
    " - число комнад на турнире\n",
    " - меняла ли комнада название\n",
    " - различные города команд\n",
    " - тип команды\n",
    " - итоговая позиция команды\n",
    " - ответы команды\n",
    " - число игроков в команде\n",
    " - статусы игроков\n",
    " \n",
    "В дальнейшем некоторые существующие текстовые данные преобразовал в численные, по типу коэффициентов, например, для легионера - 0.85, а для капитана - 1.\\\n",
    "Немного почистил данные: есть игра, в которой приняли участие 4 команды, но ответов не давали, удалил.\n",
    "Разбил данные поигрокам.\\\n",
    "Добавил коэффициент участия игрока в турнирах: отношения числа турниров, в которых принял участие игрок, к среднему по выборке.\\\n",
    "Добавил коэффициент смены команд для игрока: число команда, за которых игрок выступал, к среднему по выборке.\\\n",
    "В итоге датасет получился внушительным и едва помещался в память: 20млн строк и 18 столбцов.\n",
    "\n",
    "[К оглавлению](#toc)\\\n",
    "[1. BaseLine модель](#baseline)"
   ]
  },
  {
   "cell_type": "code",
   "execution_count": 5,
   "metadata": {},
   "outputs": [],
   "source": [
    "ids_train = tournaments.loc[(tournaments.dateStart>=\"2019-01-01T00:00:00+04:00\") & (tournaments.dateStart<\"2020-01-01T00:00:00+04:00\"), 'id'].to_numpy()\n",
    "ids_test = tournaments.loc[tournaments.dateStart>=\"2020-01-01T00:00:00+04:00\", 'id'].to_numpy()"
   ]
  },
  {
   "cell_type": "code",
   "execution_count": 6,
   "metadata": {},
   "outputs": [],
   "source": [
    "def create_tournaments_table(results_table, tournament_table, ids):\n",
    "    rows = {'id_tournament': [], \n",
    "            'type_of_tournament': [], \n",
    "            'duration': [], \n",
    "            'questionQty': [], \n",
    "            'count_teams': [], \n",
    "            'id_team': [], \n",
    "            'factor_name': [], \n",
    "            'locations': [], \n",
    "            'flag_team': [], \n",
    "            'position': [], \n",
    "            'answers': [], \n",
    "            'count_players': [], \n",
    "            'ids_players': [],\n",
    "            'flags_players': []}\n",
    "    for _id in tqdm(ids):\n",
    "        count_teams = len(results_table[_id])\n",
    "        for team in results_table[_id]:\n",
    "            if 'mask' in team.keys() and team['mask']:\n",
    "                type_of_tournament = tournament_table.loc[tournament_table.id==_id, 'type'].values[0]['name']\n",
    "                rows['id_tournament'].append(_id)\n",
    "                rows['type_of_tournament'].append(type_of_tournament)\n",
    "                \n",
    "                date_end = pd.to_datetime(tournament_table.loc[tournament_table.id==_id, 'dateEnd'])\n",
    "                date_start = pd.to_datetime(tournament_table.loc[tournament_table.id==_id, 'dateStart'])\n",
    "\n",
    "                duration_ = (date_end - date_start).apply(lambda x: x.days*24*60+x.seconds//60).values[0]/60\n",
    "                \n",
    "                rows['duration'].append(duration_)\n",
    "                \n",
    "                question_qty = tournament_table.loc[tournament_table.id==_id, 'questionQty'].to_dict()\n",
    "                rows['questionQty'].append(question_qty)\n",
    "                rows['count_teams'].append(count_teams)\n",
    "                \n",
    "                rows['id_team'].append(team['team']['id'])\n",
    "                \n",
    "                name = team['team']['name']\n",
    "                current_name = team['current']['name']\n",
    "                if name == current_name:\n",
    "                    rows['factor_name'].append('П')\n",
    "                else:\n",
    "                    rows['factor_name'].append('В')  \n",
    "                \n",
    "                if team['current']['town']:\n",
    "                    rows['locations'].append(team['current']['town']['name'])\n",
    "                else:\n",
    "                    rows['locations'].append('')\n",
    "\n",
    "                if team['flags']:\n",
    "                    rows['flag_team'].append(team['flags'][0]['shortName'])\n",
    "                else:\n",
    "                    rows['flag_team'].append('')\n",
    "\n",
    "                    \n",
    "                rows['position'].append(team['position'])\n",
    "                rows['answers'].append(team['mask'])          \n",
    "                rows['count_players'].append(len(team['teamMembers']))    \n",
    "                                \n",
    "                ids_players = []\n",
    "                flags_players = []\n",
    "                \n",
    "                for player in team['teamMembers']:\n",
    "                    ids_players.append(str(player['player']['id']))\n",
    "                    if player['flag']:\n",
    "                        flags_players.append(player['flag'])\n",
    "                    else:\n",
    "                        flags_players.append('Н')\n",
    "                                       \n",
    "                rows['ids_players'].append(ids_players)  \n",
    "                rows['flags_players'].append(flags_players)  \n",
    "                \n",
    "            else:\n",
    "                break\n",
    "    return rows\n",
    "          "
   ]
  },
  {
   "cell_type": "code",
   "execution_count": 7,
   "metadata": {
    "scrolled": false
   },
   "outputs": [
    {
     "name": "stderr",
     "output_type": "stream",
     "text": [
      "100%|██████████| 687/687 [03:03<00:00,  3.74it/s]\n",
      "100%|██████████| 422/422 [00:46<00:00,  9.09it/s]\n"
     ]
    }
   ],
   "source": [
    "teams_results_train = pd.DataFrame.from_dict(create_tournaments_table(results, tournaments, ids_train))\n",
    "teams_results_test = pd.DataFrame.from_dict(create_tournaments_table(results, tournaments, ids_test))"
   ]
  },
  {
   "cell_type": "code",
   "execution_count": 8,
   "metadata": {},
   "outputs": [],
   "source": [
    "def clear_bad_questions(df):\n",
    "    for id_t in tqdm(df['id_tournament'].unique()):\n",
    "        indexes_bad_questions = []\n",
    "        answers = []\n",
    "        for answer in df[df.id_tournament==id_t]['answers']:\n",
    "            for i in re.finditer(r'X|\\?', answer):\n",
    "                indexes_bad_questions.append(i.start())\n",
    "        indexes_bad_questions = sorted(list(set(indexes_bad_questions)))\n",
    "        if indexes_bad_questions:\n",
    "            for answer in df[df.id_tournament==id_t]['answers']:\n",
    "                answer = list(answer)\n",
    "                for idx in indexes_bad_questions:\n",
    "                    if idx < len(answer):\n",
    "                        answer[idx] = ''\n",
    "                answer = ''.join(answer)\n",
    "                answers.append(answer)\n",
    "            df.loc[df.id_tournament==id_t, 'answers'] = np.array(answers)\n",
    "    return df"
   ]
  },
  {
   "cell_type": "code",
   "execution_count": 9,
   "metadata": {},
   "outputs": [
    {
     "name": "stderr",
     "output_type": "stream",
     "text": [
      "100%|██████████| 674/674 [00:01<00:00, 513.97it/s]\n",
      "100%|██████████| 173/173 [00:00<00:00, 847.65it/s]\n"
     ]
    }
   ],
   "source": [
    "teams_results_train = clear_bad_questions(teams_results_train)\n",
    "teams_results_test = clear_bad_questions(teams_results_test)"
   ]
  },
  {
   "cell_type": "code",
   "execution_count": 10,
   "metadata": {},
   "outputs": [],
   "source": [
    "def temp_type_of_tournament_transform(x):\n",
    "    if x == 'Обычный':\n",
    "        return 1.\n",
    "    elif x == 'Строго синхронный':\n",
    "        return 2/3\n",
    "    else:\n",
    "        return .5\n",
    "\n",
    "teams_results_train.type_of_tournament = teams_results_train.type_of_tournament.apply(temp_type_of_tournament_transform)\n",
    "teams_results_test.type_of_tournament = teams_results_test.type_of_tournament.apply(temp_type_of_tournament_transform)"
   ]
  },
  {
   "cell_type": "code",
   "execution_count": 11,
   "metadata": {},
   "outputs": [],
   "source": [
    "def temp_factor_name_transform(x):\n",
    "    if x == 'П':\n",
    "        return 1.\n",
    "    else:\n",
    "        return .9\n",
    "\n",
    "teams_results_train.factor_name = teams_results_train.factor_name.apply(temp_factor_name_transform)\n",
    "teams_results_test.factor_name = teams_results_test.factor_name.apply(temp_factor_name_transform)"
   ]
  },
  {
   "cell_type": "code",
   "execution_count": 12,
   "metadata": {},
   "outputs": [],
   "source": [
    "def temp_flags_players_transform(x):\n",
    "    count_legionnaire = x.count('Л')\n",
    "    count_players = len(x)\n",
    "    if count_legionnaire >= 2:\n",
    "        return 1 - (1/count_players) - (1/count_players)*(count_legionnaire-2)\n",
    "    else:\n",
    "        return 1\n",
    "\n",
    "teams_results_train['flags_players_legionnaire'] = teams_results_train.flags_players.apply(temp_flags_players_transform)\n",
    "teams_results_test['flags_players_legionnaire'] = teams_results_test.flags_players.apply(temp_flags_players_transform)"
   ]
  },
  {
   "cell_type": "code",
   "execution_count": 13,
   "metadata": {},
   "outputs": [],
   "source": [
    "def temp_flag_team_transform(x):\n",
    "    r_factor = ['С', 'Ш', 'СтШ', 'СрШ', 'МШ', 'МлШ', 'Вуз', '!', 'Мол', 'ЛЛ']\n",
    "    if x in r_factor:\n",
    "        return 0.9\n",
    "    else:\n",
    "        return 1\n",
    "\n",
    "teams_results_train['flag_team'] = teams_results_train.flag_team.apply(temp_flag_team_transform)\n",
    "teams_results_test['flag_team'] = teams_results_test.flag_team.apply(temp_flag_team_transform)"
   ]
  },
  {
   "cell_type": "code",
   "execution_count": 14,
   "metadata": {
    "scrolled": true
   },
   "outputs": [],
   "source": [
    "li_train = zip(teams_results_train.ids_players, teams_results_train.flags_players)\n",
    "teams_results_train['id_player'] = np.array([['-'.join(z) for z in list(zip(i, j))] for i, j in li_train])\n",
    "teams_results_train = teams_results_train.drop(columns=['ids_players', 'flags_players'])\n",
    "\n",
    "li_test = zip(teams_results_test.ids_players, teams_results_test.flags_players)\n",
    "teams_results_test['id_player'] = np.array([['-'.join(z) for z in list(zip(i, j))] for i, j in li_test])\n",
    "teams_results_test = teams_results_test.drop(columns=['ids_players', 'flags_players'])"
   ]
  },
  {
   "cell_type": "code",
   "execution_count": 15,
   "metadata": {},
   "outputs": [],
   "source": [
    "rows = []\n",
    "_ = teams_results_train.apply(lambda row: [rows.append([row['id_tournament'], \n",
    "                                                        row['type_of_tournament'], \n",
    "                                                        row['duration'], \n",
    "                                                        row['questionQty'], \n",
    "                                                        row['count_teams'], \n",
    "                                                        row['id_team'], \n",
    "                                                        row['factor_name'],\n",
    "                                                        row['locations'], \n",
    "                                                        row['flag_team'], \n",
    "                                                        row['position'], \n",
    "                                                        row['answers'],\n",
    "                                                        row['count_players'], \n",
    "                                                        row['flags_players_legionnaire'], \n",
    "                                                        ids]) \n",
    "                         for ids in row.id_player], axis=1)\n",
    "teams_results_train = pd.DataFrame(rows, columns=teams_results_train.columns)\n",
    "teams_results_train = teams_results_train.reset_index()"
   ]
  },
  {
   "cell_type": "code",
   "execution_count": 16,
   "metadata": {},
   "outputs": [],
   "source": [
    "rows = []\n",
    "_ = teams_results_test.apply(lambda row: [rows.append([row['id_tournament'], \n",
    "                                                        row['type_of_tournament'], \n",
    "                                                        row['duration'], \n",
    "                                                        row['questionQty'], \n",
    "                                                        row['count_teams'], \n",
    "                                                        row['id_team'], \n",
    "                                                        row['factor_name'],\n",
    "                                                        row['locations'], \n",
    "                                                        row['flag_team'], \n",
    "                                                        row['position'], \n",
    "                                                        row['answers'],\n",
    "                                                        row['count_players'], \n",
    "                                                        row['flags_players_legionnaire'], \n",
    "                                                        ids]) \n",
    "                         for ids in row.id_player], axis=1)\n",
    "teams_results_test = pd.DataFrame(rows, columns=teams_results_test.columns)\n",
    "teams_results_test = teams_results_test.reset_index()"
   ]
  },
  {
   "cell_type": "code",
   "execution_count": 17,
   "metadata": {},
   "outputs": [],
   "source": [
    "def cut_flag(x):\n",
    "    flag = x[-1]\n",
    "    \n",
    "    if flag=='К':\n",
    "        return 1\n",
    "    elif flag=='Б':\n",
    "        return 0.95\n",
    "    elif flag=='Н':\n",
    "        return 0.9\n",
    "    elif flag=='Л':\n",
    "        return 0.85\n",
    "    \n",
    "teams_results_train['flag_player'] = teams_results_train.id_player.apply(cut_flag)\n",
    "teams_results_train['id_player'] = teams_results_train.id_player.apply(lambda x: x[:-2:])\n",
    "\n",
    "teams_results_test['flag_player'] = teams_results_test.id_player.apply(cut_flag)\n",
    "teams_results_test['id_player'] = teams_results_test.id_player.apply(lambda x: x[:-2:])"
   ]
  },
  {
   "cell_type": "code",
   "execution_count": 18,
   "metadata": {},
   "outputs": [],
   "source": [
    "rate_player_train = teams_results_train.groupby(by='id_player', \n",
    "                                                sort=False)['id_tournament', 'id_team'].agg(lambda x: len(list(set(x))))\n",
    "rate_player_test = teams_results_test.groupby(by='id_player', \n",
    "                                              sort=False)['id_tournament', 'id_team'].agg(lambda x: len(list(set(x))))"
   ]
  },
  {
   "cell_type": "code",
   "execution_count": 19,
   "metadata": {},
   "outputs": [],
   "source": [
    "mean_tournament_count = rate_player_train.loc[rate_player_train.id_tournament>3, 'id_tournament'].mean()"
   ]
  },
  {
   "cell_type": "code",
   "execution_count": 20,
   "metadata": {},
   "outputs": [],
   "source": [
    "def tournament_rate_create(x, mean_tournament_count):\n",
    "    if x<4:\n",
    "        return 3/mean_tournament_count\n",
    "    else:\n",
    "        return x/mean_tournament_count"
   ]
  },
  {
   "cell_type": "code",
   "execution_count": 21,
   "metadata": {},
   "outputs": [],
   "source": [
    "rate_player_train['tournament_rate'] = rate_player_train.id_tournament.apply(lambda x: tournament_rate_create(x, mean_tournament_count))\n",
    "rate_player_test['tournament_rate'] = rate_player_test.id_tournament.apply(lambda x: tournament_rate_create(x, mean_tournament_count))"
   ]
  },
  {
   "cell_type": "code",
   "execution_count": 22,
   "metadata": {},
   "outputs": [],
   "source": [
    "mean_team_count = rate_player_train.loc[rate_player_train.id_team>1, 'id_team'].mean()"
   ]
  },
  {
   "cell_type": "code",
   "execution_count": 23,
   "metadata": {},
   "outputs": [],
   "source": [
    "rate_player_train['team_rate'] = rate_player_train.id_team.apply(lambda x: x/mean_team_count)\n",
    "rate_player_test['team_rate'] = rate_player_test.id_team.apply(lambda x: x/mean_team_count)"
   ]
  },
  {
   "cell_type": "code",
   "execution_count": 24,
   "metadata": {},
   "outputs": [],
   "source": [
    "teams_results_train = pd.merge(teams_results_train, rate_player_train[['tournament_rate', 'team_rate']], on=['id_player'])\n",
    "teams_results_test = pd.merge(teams_results_test, rate_player_test[['tournament_rate', 'team_rate']], on=['id_player'])"
   ]
  },
  {
   "cell_type": "code",
   "execution_count": 25,
   "metadata": {},
   "outputs": [],
   "source": [
    "def create_various_locations(df):\n",
    "    for id_tournament in tqdm(df.id_tournament.unique()):\n",
    "        various_locations = len(list(set(df.loc[df.id_tournament==id_tournament, 'locations'])))\n",
    "        df.loc[df.id_tournament==id_tournament, 'various_locations'] = various_locations\n",
    "    return df"
   ]
  },
  {
   "cell_type": "code",
   "execution_count": 26,
   "metadata": {},
   "outputs": [
    {
     "name": "stderr",
     "output_type": "stream",
     "text": [
      "100%|██████████| 674/674 [00:02<00:00, 256.48it/s]\n",
      "100%|██████████| 173/173 [00:00<00:00, 498.52it/s]\n"
     ]
    }
   ],
   "source": [
    "teams_results_train = create_various_locations(teams_results_train)\n",
    "teams_results_test = create_various_locations(teams_results_test)"
   ]
  },
  {
   "cell_type": "code",
   "execution_count": 27,
   "metadata": {},
   "outputs": [],
   "source": [
    "teams_results_train['count_questions'] = teams_results_train.questionQty.apply(lambda x: sum(list(x.values())[0].values()))\n",
    "teams_results_test['count_questions'] = teams_results_test.questionQty.apply(lambda x: sum(list(x.values())[0].values()))"
   ]
  },
  {
   "cell_type": "code",
   "execution_count": 28,
   "metadata": {},
   "outputs": [],
   "source": [
    "teams_results_train = teams_results_train.drop(columns=['questionQty', 'locations'])\n",
    "teams_results_test = teams_results_test.drop(columns=['questionQty', 'locations'])"
   ]
  },
  {
   "cell_type": "code",
   "execution_count": 29,
   "metadata": {},
   "outputs": [],
   "source": [
    "columns_order = ['id_tournament', \n",
    "                 'id_team', \n",
    "                 'id_player',\n",
    "                 'type_of_tournament', \n",
    "                 'duration', \n",
    "                 'count_teams',\n",
    "                 'factor_name', \n",
    "                 'flag_team',\n",
    "                 'count_players', \n",
    "                 'flags_players_legionnaire', \n",
    "                 'flag_player', \n",
    "                 'various_locations', \n",
    "                 'count_questions', \n",
    "                 'tournament_rate', \n",
    "                 'team_rate', \n",
    "                 'answers',\n",
    "                 'position', ]\n",
    "\n",
    "teams_results_train = teams_results_train[columns_order]\n",
    "teams_results_test = teams_results_test[columns_order]"
   ]
  },
  {
   "cell_type": "code",
   "execution_count": 30,
   "metadata": {},
   "outputs": [],
   "source": [
    "teams_results_train.answers = teams_results_train.answers.apply(lambda x: list(x))\n",
    "teams_results_test.answers = teams_results_test.answers.apply(lambda x: list(x))"
   ]
  },
  {
   "cell_type": "code",
   "execution_count": 31,
   "metadata": {},
   "outputs": [],
   "source": [
    "teams_results_train = teams_results_train.drop(index=teams_results_train.loc[teams_results_train.count_teams<3].index).reset_index(drop=True)"
   ]
  },
  {
   "cell_type": "code",
   "execution_count": 32,
   "metadata": {},
   "outputs": [],
   "source": [
    "def parse_answers_by_player(df):\n",
    "    columns_order = ['id_tournament', \n",
    "                     'id_team', \n",
    "                     'id_player',\n",
    "                     'type_of_tournament', \n",
    "                     'duration', \n",
    "                     'count_teams',\n",
    "                     'factor_name', \n",
    "                     'flag_team',\n",
    "                     'count_players', \n",
    "                     'flags_players_legionnaire', \n",
    "                     'flag_player', \n",
    "                     'various_locations', \n",
    "                     'count_questions', \n",
    "                     'tournament_rate', \n",
    "                     'team_rate', \n",
    "                     'answer',\n",
    "                     'id_answer',\n",
    "                     'position', ]\n",
    "\n",
    "    rows = {'id_tournament': [], \n",
    "                'id_team': [], \n",
    "                'id_player': [], \n",
    "                'type_of_tournament': [], \n",
    "                'duration': [], \n",
    "                'count_teams': [], \n",
    "                'factor_name': [], \n",
    "                'flag_team': [], \n",
    "                'count_players': [], \n",
    "                'flags_players_legionnaire': [], \n",
    "                'flag_player': [], \n",
    "                'various_locations': [], \n",
    "                'count_questions': [],\n",
    "                'tournament_rate': [], \n",
    "                'team_rate': [],\n",
    "                'answer': [],\n",
    "                'id_answer': [],\n",
    "                'position': []}\n",
    "\n",
    "    for index_row, answers in tqdm(df.to_dict()['answers'].items()):\n",
    "        \n",
    "        len_answers = len(answers)\n",
    "        rows['id_tournament'].extend([df['id_tournament'][index_row]]*len_answers)\n",
    "        rows['id_team'].extend([df['id_team'][index_row]]*len_answers)\n",
    "        rows['id_player'].extend([df['id_player'][index_row]]*len_answers)\n",
    "        rows['type_of_tournament'].extend([df['type_of_tournament'][index_row]]*len_answers)\n",
    "        rows['duration'].extend([df['duration'][index_row]]*len_answers)\n",
    "        rows['count_teams'].extend([df['count_teams'][index_row]]*len_answers)\n",
    "        rows['factor_name'].extend([df['factor_name'][index_row]]*len_answers)\n",
    "        rows['flag_team'].extend([df['flag_team'][index_row]]*len_answers)\n",
    "        rows['count_players'].extend([df['count_players'][index_row]]*len_answers)\n",
    "        rows['flags_players_legionnaire'].extend([df['flags_players_legionnaire'][index_row]]*len_answers)\n",
    "        rows['flag_player'].extend([df['flag_player'][index_row]]*len_answers)\n",
    "        rows['various_locations'].extend([df['various_locations'][index_row]]*len_answers)\n",
    "        rows['count_questions'].extend([df['count_questions'][index_row]]*len_answers)\n",
    "        rows['tournament_rate'].extend([df['tournament_rate'][index_row]]*len_answers)\n",
    "        rows['team_rate'].extend([df['team_rate'][index_row]]*len_answers)\n",
    "        rows['answer'].extend(answers)\n",
    "        rows['id_answer'].extend(range(1, len_answers+1))\n",
    "        rows['position'].extend([df['position'][index_row]]*len_answers)\n",
    "\n",
    "    rows = pd.DataFrame(rows)\n",
    "        \n",
    "    return rows"
   ]
  },
  {
   "cell_type": "code",
   "execution_count": 34,
   "metadata": {},
   "outputs": [
    {
     "name": "stderr",
     "output_type": "stream",
     "text": [
      "100%|██████████| 451611/451611 [00:49<00:00, 9154.68it/s]\n",
      "100%|██████████| 112841/112841 [00:13<00:00, 8094.35it/s]\n"
     ]
    }
   ],
   "source": [
    "teams_results_train = parse_answers_by_player(teams_results_train)\n",
    "teams_results_test = parse_answers_by_player(teams_results_test)"
   ]
  },
  {
   "cell_type": "markdown",
   "metadata": {},
   "source": [
    "*Почистим память*"
   ]
  },
  {
   "cell_type": "code",
   "execution_count": 35,
   "metadata": {
    "scrolled": true
   },
   "outputs": [
    {
     "data": {
      "text/plain": [
       "564562"
      ]
     },
     "execution_count": 35,
     "metadata": {},
     "output_type": "execute_result"
    }
   ],
   "source": [
    "del results\n",
    "del tournaments\n",
    "gc.collect()"
   ]
  },
  {
   "cell_type": "markdown",
   "metadata": {},
   "source": [
    "<a class=\"anchor\" id=\"baseline\"></a>\n",
    "[К оглавлению](#toc)\\\n",
    "[0. Введение](#introduction)\n",
    "\n",
    "# 1. BaseLine модель. \n",
    "За основу базовой модели я взял логистическую регрессию.\\\n",
    "Основная сложность в том, что на 20млн строк повопросных данных у нас слишком мало признаков и слишком маленькое разнообразие для каждого признака. Модель  на таких данных строила близко к случайному результаты предсказаний, но различия часто были на уровне игроков, а в дальнейшем при выводеа результатов команд модель часто предсказывала слишком большое количество одинаковых позиция для команд на турнирах.\n",
    "\n",
    "Основные показатели, которые влияют на игру команды - это сила каждого игрока в составе команды и сложность каждого вопроса для каждого игрока. Нам эти данные не известны, да и в целом сложно их как то оценить в жизни.\\\n",
    "Для построения модели я выбрал следующий путь:\n",
    "1. __Создадим 2 признака для каждой пары игрок-вопрос.__ Признаки отвечают за __силу игрока и сложность вопроса__ для игрока. Эти признаки не отражают действительность как таковую, потому что семплирую я их случаным образом из нормального распределения, не привязываясь к чему либо. Можно считать что это \"псевдосила\" и \"псевдосложность\".\n",
    "2. __Предскажим повопросные ответы игроков.__\n",
    "3. __Изменим показтель силы и сложности вопроса__ для игроков так, __чтобы метрика качества предсказания увеличилась.__ При этом я сделал предположения, как будто имею дело с настоящими силами игроков и сложностью вопроса. Подробнее о калибровке ниже.\n",
    "4. По достижению заданной точности я имею среднее занчение \"псевдосилы\" для каждого игрока и сложность вопроса с некоторой дисперсией. Эта дисперсия в сложности вопроса обеспечивала высокий результат предсказания на тренировочных данных.\n",
    "5. Так как нам неизвестны данные ответов команд на турнирах за 2020 год(только для проверки качества) я не могу сделать такую калибровку на данных за 2020 год. Но я делаю предположение, что игрок, обладая определенной силой, с ней же перешел из 2019 в 2020. Поэтому __признак силы я перенес на 2020 год__, а недостающие данные игроков, которые не принимали участие в 2019 году предсказал, правда с не очень большой точностью(r2 ~ 0,3 на cv).\n",
    "6. __Так как основным показателем для повопросной точности предсказания была сложность вопроса__ мне нужно где то взять ее для турниров на 2020 год. При этом, мне по сути не важна точность, что игрок, например, ответил на 2 вопрос и не ответил на 3. Если игрок ответил на 20 вопросов из 30, нам важно предсказать, что он ответил на 20 каких то вопросов из 30, а каких именно - не важно. Поэтому для сложности вопроса я сделаю следующее: __для тренировочного и тестового наборов по исходным данным при включении \"псевдосилы\" я предскажу сложность вопроса, предварительно обучившись на трейне, а затем добавлю дисперсию, которая будет дисперсией в целом для команды по предсказанным данным.__\n",
    "7. Так как я предполагаю, что те самые случайные величины \"псевдосилы\" и \"псевдосложности\", которые я получу после всех предсказаний будут в какой то степени из одного и того же распределения что и _идеальные_ \"псевдосила\" и \"псевдосложность\", я __обучу модель логистической регрессии__ на _идеальных_ данных и предскажу результаты игрок-вопрос для турниров 2019 и 2020 годов.\n",
    "\n",
    "Точность повопросных результатов составила 60% на 2019 год по предсказанным сложностям вопроса без добавления шума и 44 с добавлением.\\\n",
    "После группировки результатов модели в число правильных ответов для комнды(порог - квантиль 75% правильных ответов от игроков) я определил командам метса по числу правильных ответов на конкретном турнире.\\\n",
    "Затем тоже самое я проделал для данных за 2020 год.\n",
    "\n",
    "__Результаты BaseLine модели:__\\\n",
    "___2019 год:___\\\n",
    "__Корреляция Спирмена: 0.898\\\n",
    "Корреляция Кендалла: 0.735\\\n",
    "Повопросный F1: 0.44__\\\n",
    "___2020 год:___\\\n",
    "__Корреляция Спирмена: 0.822\\\n",
    "Корреляция Кендалла: 0.644\\\n",
    "Повопросный F1: 0.41__\n",
    "\n",
    "[К оглавлению](#toc)\\\n",
    "[2. EM Алгоритм](#em)"
   ]
  },
  {
   "cell_type": "code",
   "execution_count": 56,
   "metadata": {},
   "outputs": [],
   "source": [
    "teams_results_train['power_of_player'] = np.random.normal(200, 10, teams_results_train.shape[0])"
   ]
  },
  {
   "cell_type": "code",
   "execution_count": 57,
   "metadata": {},
   "outputs": [],
   "source": [
    "teams_results_train['complexity'] = np.random.normal(1, 0.1, teams_results_train.shape[0])"
   ]
  },
  {
   "cell_type": "code",
   "execution_count": 58,
   "metadata": {},
   "outputs": [],
   "source": [
    "teams_results_train = teams_results_train.astype('float32')\n",
    "teams_results_test = teams_results_test.astype('float32')"
   ]
  },
  {
   "cell_type": "code",
   "execution_count": 43,
   "metadata": {},
   "outputs": [],
   "source": [
    "X_train = teams_results_train.drop(columns=['id_tournament', 'id_team', 'id_player', 'answer', 'id_answer', 'position']).to_numpy()\n",
    "X_train = MinMaxScaler().fit_transform(X_train)\n",
    "y_train = teams_results_train['answer']"
   ]
  },
  {
   "cell_type": "code",
   "execution_count": 44,
   "metadata": {},
   "outputs": [
    {
     "name": "stdout",
     "output_type": "stream",
     "text": [
      "CPU times: user 3.23 s, sys: 630 ms, total: 3.86 s\n",
      "Wall time: 1min 1s\n",
      "Accuracy:  0.5845360771289734\n",
      "F1-Score:  0.5385157564828692\n"
     ]
    }
   ],
   "source": [
    "lr = LogisticRegression(n_jobs=-1)\n",
    "inds=random.sample(range(X_train.shape[0]), X_train.shape[0]//5)\n",
    "%time lr.fit(X_train[inds], y_train[inds])\n",
    "\n",
    "y_pred = lr.predict(X_train)\n",
    "\n",
    "accuracy = accuracy_score(y_train, y_pred)\n",
    "f1 = f1_score(y_train, y_pred, average='weighted')\n",
    "\n",
    "print('Accuracy: ', accuracy)\n",
    "print('F1-Score: ', f1)"
   ]
  },
  {
   "cell_type": "markdown",
   "metadata": {},
   "source": [
    "Суть калибровки в следующем:\n",
    "1. Берем игрока из выборки и все его настоящие ответы за 2019 год.\n",
    "2. Его сила на данный момент - среднее из того, что мы случайно для него насемплировали.\n",
    "3. Если игрок ответил правильно, то ему потенцаильно начисляется 10 очков к силе, помноженные на коеффициенты, а сложность вопроса для него уменьшается в 1,05, он же верно ответил. Если игрок ответил не верно, то у него минусуется 5 очков силы, помноженные на коеффициенты, а сложность вопроса увеличивается в 1,05 раз.\n",
    "4. Основной коеффициент состоит из типа турнира (0,5 или 2/3 или 1), фактора имени команды и так далее.\n",
    "5. Еще один коеффициент имеет следующую логику:\n",
    " - Если игрок имеет силу выше базовых 200 и при этом отвечает не правильно, то его штраф умножается еще на $ 1 +  \\frac{1}{|1-log|\\frac{power}{200}||} $\n",
    " - Если игрок имеет силу меньше базовых 200 и при этом отвечает правильно, то его бонус к силе умножается еще на $ 1 +  \\frac{1}{|1-log|\\frac{power}{200}||} $\n",
    " - Если игрок имеет силу меньше базовых 200 и при этом отвечает неправильно, то его штраф умножается еще на $ \\frac{1}{|1-log|\\frac{power}{200}||} $ тем самым начисляя штраф не так сильно, ведь для слабого игрока мы ожидали скорее неправильного ответа и наказывать сильно его не нужно\n",
    "6. Для каждого ответа мы складываем его прирост к силе(в + или -) в список, а после прохода всех вопросов усредняем и складываем это с текущим значением силы.\n",
    "7. Так делаем для каждого игрока из основной выборки."
   ]
  },
  {
   "cell_type": "code",
   "execution_count": 59,
   "metadata": {},
   "outputs": [],
   "source": [
    "player_indices = teams_results_train.groupby('id_player', sort=False).indices"
   ]
  },
  {
   "cell_type": "code",
   "execution_count": 60,
   "metadata": {},
   "outputs": [],
   "source": [
    "means_params = teams_results_train.groupby('id_player', sort=False)['type_of_tournament', \n",
    "                                         'factor_name', \n",
    "                                         'flag_team', \n",
    "                                         'flags_players_legionnaire', \n",
    "                                         'flag_player'].mean().reset_index()"
   ]
  },
  {
   "cell_type": "code",
   "execution_count": 61,
   "metadata": {},
   "outputs": [],
   "source": [
    "list_answers = teams_results_train.groupby('id_player', sort=False)['answer'].agg(lambda x: x.tolist()).reset_index()"
   ]
  },
  {
   "cell_type": "code",
   "execution_count": 62,
   "metadata": {
    "scrolled": true
   },
   "outputs": [
    {
     "name": "stdout",
     "output_type": "stream",
     "text": [
      "CPU times: user 2.27 s, sys: 1.05 s, total: 3.32 s\n",
      "Wall time: 50.4 s\n"
     ]
    },
    {
     "name": "stderr",
     "output_type": "stream",
     "text": [
      "\r",
      "  0%|          | 0/59059 [00:00<?, ?it/s]"
     ]
    },
    {
     "name": "stdout",
     "output_type": "stream",
     "text": [
      "Номер текущей итерации:  0\n",
      "Accuracy:  0.5846303654189727\n",
      "F1-Score:  0.5384364502422636\n"
     ]
    },
    {
     "name": "stderr",
     "output_type": "stream",
     "text": [
      "100%|██████████| 59059/59059 [07:10<00:00, 137.27it/s]\n"
     ]
    },
    {
     "name": "stdout",
     "output_type": "stream",
     "text": [
      "CPU times: user 4.69 s, sys: 1.26 s, total: 5.94 s\n",
      "Wall time: 1min 6s\n"
     ]
    },
    {
     "name": "stderr",
     "output_type": "stream",
     "text": [
      "\r",
      "  0%|          | 0/59059 [00:00<?, ?it/s]"
     ]
    },
    {
     "name": "stdout",
     "output_type": "stream",
     "text": [
      "Номер текущей итерации:  1\n",
      "Accuracy:  0.7102642789389437\n",
      "F1-Score:  0.7083583914157677\n"
     ]
    },
    {
     "name": "stderr",
     "output_type": "stream",
     "text": [
      "100%|██████████| 59059/59059 [07:12<00:00, 136.64it/s]\n"
     ]
    },
    {
     "name": "stdout",
     "output_type": "stream",
     "text": [
      "CPU times: user 3.75 s, sys: 1.27 s, total: 5.01 s\n",
      "Wall time: 46.8 s\n"
     ]
    },
    {
     "name": "stderr",
     "output_type": "stream",
     "text": [
      "\r",
      "  0%|          | 0/59059 [00:00<?, ?it/s]"
     ]
    },
    {
     "name": "stdout",
     "output_type": "stream",
     "text": [
      "Номер текущей итерации:  2\n",
      "Accuracy:  0.8485368080072458\n",
      "F1-Score:  0.8485195057117109\n"
     ]
    },
    {
     "name": "stderr",
     "output_type": "stream",
     "text": [
      "100%|██████████| 59059/59059 [07:09<00:00, 137.40it/s]\n"
     ]
    },
    {
     "name": "stdout",
     "output_type": "stream",
     "text": [
      "CPU times: user 4.31 s, sys: 1.33 s, total: 5.64 s\n",
      "Wall time: 1min 15s\n"
     ]
    },
    {
     "name": "stderr",
     "output_type": "stream",
     "text": [
      "\r",
      "  0%|          | 0/59059 [00:00<?, ?it/s]"
     ]
    },
    {
     "name": "stdout",
     "output_type": "stream",
     "text": [
      "Номер текущей итерации:  3\n",
      "Accuracy:  0.9347650814935995\n",
      "F1-Score:  0.9348035545595424\n"
     ]
    },
    {
     "name": "stderr",
     "output_type": "stream",
     "text": [
      "100%|██████████| 59059/59059 [07:14<00:00, 135.87it/s]\n"
     ]
    },
    {
     "name": "stdout",
     "output_type": "stream",
     "text": [
      "CPU times: user 5.31 s, sys: 1.29 s, total: 6.61 s\n",
      "Wall time: 1min 22s\n"
     ]
    },
    {
     "name": "stderr",
     "output_type": "stream",
     "text": [
      "\r",
      "  0%|          | 0/59059 [00:00<?, ?it/s]"
     ]
    },
    {
     "name": "stdout",
     "output_type": "stream",
     "text": [
      "Номер текущей итерации:  4\n",
      "Accuracy:  0.9768639868372779\n",
      "F1-Score:  0.9768736351347707\n"
     ]
    },
    {
     "name": "stderr",
     "output_type": "stream",
     "text": [
      "100%|██████████| 59059/59059 [07:11<00:00, 136.98it/s]\n"
     ]
    },
    {
     "name": "stdout",
     "output_type": "stream",
     "text": [
      "CPU times: user 4.75 s, sys: 1.32 s, total: 6.07 s\n",
      "Wall time: 59.9 s\n",
      "Итерация до заданной точности:  5\n",
      "Accuracy:  0.9931988089718284\n",
      "F1-Score:  0.9932000832554502\n",
      "CPU times: user 51min 45s, sys: 6min 50s, total: 58min 35s\n",
      "Wall time: 44min 41s\n"
     ]
    }
   ],
   "source": [
    "%%time\n",
    "accuracy = 0\n",
    "f1 = 0\n",
    "count = 0\n",
    "y_train = teams_results_train['answer']\n",
    "\n",
    "while accuracy < 0.98 and f1 < 0.98:\n",
    "    X_train = teams_results_train.drop(columns=['id_tournament', 'id_team', 'id_player', 'answer', 'id_answer', 'position']).to_numpy()\n",
    "    X_train = MinMaxScaler().fit_transform(X_train)\n",
    "\n",
    "    lr = LogisticRegression(n_jobs=-1)\n",
    "    inds=random.sample(range(X_train.shape[0]), X_train.shape[0]//5)\n",
    "    %time lr.fit(X_train[inds], y_train[inds])\n",
    "\n",
    "    y_pred = lr.predict(X_train)\n",
    "\n",
    "    accuracy = accuracy_score(y_train, y_pred)\n",
    "    f1 = f1_score(y_train, y_pred, average='weighted')\n",
    "    \n",
    "    means_power = teams_results_train.groupby('id_player', sort=False)['power_of_player'].mean().reset_index()\n",
    "    list_complexity = teams_results_train.groupby('id_player', sort=False)['complexity'].agg(lambda x: x.tolist()).reset_index()\n",
    "    \n",
    "    if accuracy < 0.98 and f1 < 0.98:\n",
    "        count += 1 \n",
    "        print('Номер текущей итерации: ', count)\n",
    "        print('Accuracy: ', accuracy)\n",
    "        print('F1-Score: ', f1)\n",
    "        \n",
    "        for id_player in tqdm(teams_results_train.id_player.unique()):\n",
    "            power = means_power[means_power.id_player==id_player]['power_of_player'].values[0]\n",
    "            answers = list_answers[list_answers.id_player==id_player]['answer'].values[0]\n",
    "            complexity = list_complexity[list_complexity.id_player==id_player]['complexity'].values[0]\n",
    "\n",
    "            type_of_tournament = means_params[means_params.id_player==id_player]['type_of_tournament'].values[0]\n",
    "            factor_name = means_params[means_params.id_player==id_player]['factor_name'].values[0]\n",
    "            flag_team = means_params[means_params.id_player==id_player]['flag_team'].values[0]\n",
    "            flags_players_legionnaire = means_params[means_params.id_player==id_player]['flags_players_legionnaire'].values[0]\n",
    "            flag_player = means_params[means_params.id_player==id_player]['flag_player'].values[0]\n",
    "\n",
    "            main_koef = type_of_tournament*factor_name*flag_team*flags_players_legionnaire*flag_player\n",
    "\n",
    "            replace_complexity = {1: 0.95, 0: 1.05}\n",
    "            complexity = np.vectorize(lambda x: replace_complexity[x])(answers)*complexity\n",
    "\n",
    "            replace_answer = {1: 10, 0: -5}\n",
    "            answers = np.vectorize(lambda x: replace_answer[x])(answers)\n",
    "\n",
    "            if power > 200:\n",
    "                replace_koef_power = {10: 1, -5: 1+1/abs(1-np.log(abs(power/200)))}\n",
    "            else:\n",
    "                replace_koef_power = {10: 1+1/abs(1-np.log(abs(power/200))), -5: 1/abs(1-np.log(abs(power/200)))}\n",
    "\n",
    "            koef_power = np.vectorize(lambda x: replace_koef_power[x])(answers)\n",
    "                        \n",
    "            power += np.mean(answers*complexity*koef_power)*main_koef\n",
    "            \n",
    "            ids_player = player_indices[id_player]\n",
    "            \n",
    "            power = np.array([power]*ids_player.shape[0])\n",
    "            \n",
    "            teams_results_train.at[ids_player, 'power_of_player'] = power\n",
    "            teams_results_train.at[ids_player, 'complexity'] = complexity\n",
    "        \n",
    "        \n",
    "    else:\n",
    "        break\n",
    "    \n",
    "    \n",
    "print('Итерация до заданной точности: ', count)\n",
    "print('Accuracy: ', accuracy)\n",
    "print('F1-Score: ', f1)"
   ]
  },
  {
   "cell_type": "raw",
   "metadata": {},
   "source": [
    "teams_results_test.to_csv('2020_calibration_test.csv', index=False)\n",
    "teams_results_train.to_csv('2019_calibration_train.csv', index=False)"
   ]
  },
  {
   "cell_type": "code",
   "execution_count": 3,
   "metadata": {},
   "outputs": [
    {
     "name": "stdout",
     "output_type": "stream",
     "text": [
      "Средняя сила всех игроков - 206.194061\n",
      "Разброс силы всех игроков - 7.164006\n"
     ]
    }
   ],
   "source": [
    "print('Средняя сила всех игроков - %f'%(teams_results_train.power_of_player.mean()))\n",
    "print('Разброс силы всех игроков - %f'%(teams_results_train.power_of_player.std()))"
   ]
  },
  {
   "cell_type": "code",
   "execution_count": 4,
   "metadata": {},
   "outputs": [
    {
     "name": "stdout",
     "output_type": "stream",
     "text": [
      "Средняя сложность вопроса - 1.094619\n",
      "Разброс сложности вопросов - 0.270276\n"
     ]
    }
   ],
   "source": [
    "print('Средняя сложность вопроса - %f'%(teams_results_train.complexity.mean()))\n",
    "print('Разброс сложности вопросов - %f'%(teams_results_train.complexity.std()))"
   ]
  },
  {
   "cell_type": "code",
   "execution_count": 5,
   "metadata": {},
   "outputs": [],
   "source": [
    "ankwnown_power_of_players = list(set(teams_results_test.id_player.unique()).difference(set(teams_results_train.id_player.unique())))"
   ]
  },
  {
   "cell_type": "code",
   "execution_count": 6,
   "metadata": {},
   "outputs": [],
   "source": [
    "train_for_predict_power = teams_results_train.groupby(['id_player'], sort=False)['type_of_tournament', \n",
    "                                                       'duration', \n",
    "                                                       'count_teams', \n",
    "                                                       'factor_name', \n",
    "                                                       'flag_team', \n",
    "                                                       'count_players',\n",
    "                                                       'flags_players_legionnaire', \n",
    "                                                       'flag_player', \n",
    "                                                       'various_locations',\n",
    "                                                       'count_questions', \n",
    "                                                       'tournament_rate', \n",
    "                                                       'team_rate', \n",
    "                                                       'power_of_player'].mean()\n",
    "train_for_predict_power.reset_index(inplace=True)"
   ]
  },
  {
   "cell_type": "code",
   "execution_count": 7,
   "metadata": {},
   "outputs": [],
   "source": [
    "train_id_players = random.sample(train_for_predict_power.id_player.unique().tolist(), 50000)\n",
    "val_id_players = list(set(train_for_predict_power.id_player.unique()).difference(set(train_id_players)))"
   ]
  },
  {
   "cell_type": "code",
   "execution_count": 8,
   "metadata": {},
   "outputs": [],
   "source": [
    "X_train = MinMaxScaler().fit_transform(train_for_predict_power.loc[train_for_predict_power.id_player.isin(train_id_players)].iloc[:,1:-1])\n",
    "y_train = train_for_predict_power.loc[train_for_predict_power.id_player.isin(train_id_players), 'power_of_player']\n",
    "\n",
    "X_val = MinMaxScaler().fit_transform(train_for_predict_power.loc[train_for_predict_power.id_player.isin(val_id_players)].iloc[:,1:-1])\n",
    "y_val = train_for_predict_power.loc[train_for_predict_power.id_player.isin(val_id_players), 'power_of_player']"
   ]
  },
  {
   "cell_type": "code",
   "execution_count": 29,
   "metadata": {},
   "outputs": [
    {
     "data": {
      "text/plain": [
       "XGBRegressor(base_score=0.5, booster='gbtree', colsample_bylevel=1,\n",
       "             colsample_bynode=1, colsample_bytree=1, gamma=0, gpu_id=0,\n",
       "             importance_type='gain', interaction_constraints='',\n",
       "             learning_rate=0.05, max_delta_step=0, max_depth=12,\n",
       "             min_child_weight=1, missing=nan, monotone_constraints='()',\n",
       "             n_estimators=2000, n_jobs=16, num_parallel_tree=1, random_state=42,\n",
       "             reg_alpha=0, reg_lambda=1, scale_pos_weight=1, subsample=1,\n",
       "             tree_method='gpu_hist', validate_parameters=1, verbosity=None)"
      ]
     },
     "execution_count": 29,
     "metadata": {},
     "output_type": "execute_result"
    }
   ],
   "source": [
    "xgb_r_best = XGBRegressor(n_estimators=2000, max_depth=12, learning_rate=0.05, tree_method='gpu_hist', gpu_id=0, random_state=42)\n",
    "xgb_r_best.fit(X_train, y_train)"
   ]
  },
  {
   "cell_type": "code",
   "execution_count": 30,
   "metadata": {},
   "outputs": [],
   "source": [
    "train_pred = xgb_r_best.predict(X_train)\n",
    "val_pred = xgb_r_best.predict(X_val)"
   ]
  },
  {
   "cell_type": "code",
   "execution_count": 31,
   "metadata": {},
   "outputs": [
    {
     "name": "stdout",
     "output_type": "stream",
     "text": [
      "Train\n",
      "R2: 0.783061\n",
      "MAE: 1.116039\n",
      "MSE: 2.224652\n"
     ]
    }
   ],
   "source": [
    "print('Train')\n",
    "print('R2: %f'%(r2_score(y_train, train_pred)))\n",
    "print('MAE: %f'%(mean_absolute_error(y_train, train_pred)))\n",
    "print('MSE: %f'%(np.sqrt(mean_squared_error(y_train, train_pred))))"
   ]
  },
  {
   "cell_type": "code",
   "execution_count": 32,
   "metadata": {},
   "outputs": [
    {
     "name": "stdout",
     "output_type": "stream",
     "text": [
      "Val\n",
      "R2: 0.458603\n",
      "MAE: 2.467639\n",
      "MSE: 3.530744\n"
     ]
    }
   ],
   "source": [
    "print('Val')\n",
    "print('R2: %f'%(r2_score(y_val, val_pred)))\n",
    "print('MAE: %f'%(mean_absolute_error(y_val, val_pred)))\n",
    "print('MSE: %f'%(np.sqrt(mean_squared_error(y_val, val_pred))))"
   ]
  },
  {
   "cell_type": "markdown",
   "metadata": {},
   "source": [
    "Теперь применим эту модель для прогнозирования недостающей силы игроков за 2020 год"
   ]
  },
  {
   "cell_type": "code",
   "execution_count": 33,
   "metadata": {},
   "outputs": [],
   "source": [
    "teams_results_test['power_of_player'] = 0"
   ]
  },
  {
   "cell_type": "code",
   "execution_count": 34,
   "metadata": {},
   "outputs": [],
   "source": [
    "test_for_predict_power = teams_results_test.groupby(['id_player'], sort=False)['type_of_tournament', \n",
    "                                                       'duration', \n",
    "                                                       'count_teams', \n",
    "                                                       'factor_name', \n",
    "                                                       'flag_team', \n",
    "                                                       'count_players',\n",
    "                                                       'flags_players_legionnaire', \n",
    "                                                       'flag_player', \n",
    "                                                       'various_locations',\n",
    "                                                       'count_questions', \n",
    "                                                       'tournament_rate', \n",
    "                                                       'team_rate', \n",
    "                                                       'power_of_player'].mean()\n",
    "test_for_predict_power.reset_index(inplace=True)"
   ]
  },
  {
   "cell_type": "code",
   "execution_count": 35,
   "metadata": {},
   "outputs": [
    {
     "name": "stderr",
     "output_type": "stream",
     "text": [
      "100%|██████████| 28996/28996 [08:57<00:00, 53.93it/s]\n"
     ]
    }
   ],
   "source": [
    "for id_player in tqdm(teams_results_test.id_player.unique()):\n",
    "    if id_player in train_for_predict_power.id_player.unique():\n",
    "        teams_results_test.loc[teams_results_test.id_player==id_player, 'power_of_player'] = \\\n",
    "            train_for_predict_power.loc[train_for_predict_power.id_player==id_player, 'power_of_player'].mean()\n",
    "    else:\n",
    "        player_info = test_for_predict_power[test_for_predict_power.id_player==id_player]\n",
    "        power_player = xgb_r_best.predict(MinMaxScaler().fit_transform(player_info.iloc[:,1:-1]))\n",
    "        \n",
    "        teams_results_test.loc[teams_results_test.id_player==id_player, 'power_of_player'] = power_player[0]\n",
    "            "
   ]
  },
  {
   "cell_type": "code",
   "execution_count": 36,
   "metadata": {},
   "outputs": [
    {
     "name": "stdout",
     "output_type": "stream",
     "text": [
      "Средняя сила всех игроков за 2020 - 200.003019\n",
      "Разброс силы всех игроков за 2020 - 2.992994\n"
     ]
    }
   ],
   "source": [
    "print('Средняя сила всех игроков за 2020 - %f'%(teams_results_test.power_of_player.mean()))\n",
    "print('Разброс силы всех игроков за 2020 - %f'%(teams_results_test.power_of_player.std()))"
   ]
  },
  {
   "cell_type": "markdown",
   "metadata": {},
   "source": [
    "### 2019 BaseLine"
   ]
  },
  {
   "cell_type": "code",
   "execution_count": 38,
   "metadata": {},
   "outputs": [],
   "source": [
    "train_for_predict_complexity = teams_results_train.groupby(['id_tournament', 'id_team', 'id_player'], sort=False)['type_of_tournament', \n",
    "                                                       'duration', \n",
    "                                                       'count_teams', \n",
    "                                                       'factor_name', \n",
    "                                                       'flag_team', \n",
    "                                                       'count_players',\n",
    "                                                       'flags_players_legionnaire', \n",
    "                                                       'flag_player', \n",
    "                                                       'various_locations',\n",
    "                                                       'count_questions', \n",
    "                                                       'tournament_rate', \n",
    "                                                       'team_rate', \n",
    "                                                       'power_of_player',\n",
    "                                                       'complexity',].mean()\n",
    "train_for_predict_complexity.reset_index(inplace=True)\n",
    "\n",
    "train_id_players = random.sample(train_for_predict_power.id_player.unique().tolist(), 50000)\n",
    "val_id_players = list(set(train_for_predict_power.id_player.unique()).difference(set(train_id_players)))"
   ]
  },
  {
   "cell_type": "code",
   "execution_count": 39,
   "metadata": {},
   "outputs": [],
   "source": [
    "X_train = MinMaxScaler().fit_transform(train_for_predict_complexity.loc[train_for_predict_complexity.id_player.isin(train_id_players)].iloc[:,3:-1])\n",
    "y_train = train_for_predict_complexity.loc[train_for_predict_complexity.id_player.isin(train_id_players), 'complexity']\n",
    "\n",
    "X_val = MinMaxScaler().fit_transform(train_for_predict_complexity.loc[train_for_predict_complexity.id_player.isin(val_id_players)].iloc[:,3:-1])\n",
    "y_val = train_for_predict_complexity.loc[train_for_predict_complexity.id_player.isin(val_id_players), 'complexity']"
   ]
  },
  {
   "cell_type": "code",
   "execution_count": 52,
   "metadata": {},
   "outputs": [
    {
     "data": {
      "text/plain": [
       "XGBRegressor(base_score=0.5, booster='gbtree', colsample_bylevel=1,\n",
       "             colsample_bynode=1, colsample_bytree=1, gamma=0, gpu_id=0,\n",
       "             importance_type='gain', interaction_constraints='',\n",
       "             learning_rate=0.05, max_delta_step=0, max_depth=15,\n",
       "             min_child_weight=1, missing=nan, monotone_constraints='()',\n",
       "             n_estimators=1000, n_jobs=16, num_parallel_tree=1, random_state=42,\n",
       "             reg_alpha=0, reg_lambda=1, scale_pos_weight=1, subsample=1,\n",
       "             tree_method='gpu_hist', validate_parameters=1, verbosity=None)"
      ]
     },
     "execution_count": 52,
     "metadata": {},
     "output_type": "execute_result"
    }
   ],
   "source": [
    "xgb_r_best = XGBRegressor(n_estimators=1000, max_depth=15, learning_rate=0.05, tree_method='gpu_hist', gpu_id=0, random_state=42)\n",
    "xgb_r_best.fit(X_train, y_train)"
   ]
  },
  {
   "cell_type": "code",
   "execution_count": 53,
   "metadata": {},
   "outputs": [],
   "source": [
    "train_pred = xgb_r_best.predict(X_train)\n",
    "val_pred = xgb_r_best.predict(X_val)"
   ]
  },
  {
   "cell_type": "code",
   "execution_count": 54,
   "metadata": {},
   "outputs": [
    {
     "name": "stdout",
     "output_type": "stream",
     "text": [
      "Train\n",
      "R2: 0.962118\n",
      "MAE: 0.012590\n",
      "MSE: 0.018955\n"
     ]
    }
   ],
   "source": [
    "print('Train')\n",
    "print('R2: %f'%(r2_score(y_train, train_pred)))\n",
    "print('MAE: %f'%(mean_absolute_error(y_train, train_pred)))\n",
    "print('MSE: %f'%(np.sqrt(mean_squared_error(y_train, train_pred))))"
   ]
  },
  {
   "cell_type": "code",
   "execution_count": 55,
   "metadata": {},
   "outputs": [
    {
     "name": "stdout",
     "output_type": "stream",
     "text": [
      "Val\n",
      "R2: 0.605293\n",
      "MAE: 0.047286\n",
      "MSE: 0.060897\n"
     ]
    }
   ],
   "source": [
    "print('Val')\n",
    "print('R2: %f'%(r2_score(y_val, val_pred)))\n",
    "print('MAE: %f'%(mean_absolute_error(y_val, val_pred)))\n",
    "print('MSE: %f'%(np.sqrt(mean_squared_error(y_val, val_pred))))"
   ]
  },
  {
   "cell_type": "code",
   "execution_count": 56,
   "metadata": {},
   "outputs": [],
   "source": [
    "del train_for_predict_power\n",
    "del test_for_predict_power"
   ]
  },
  {
   "cell_type": "code",
   "execution_count": 61,
   "metadata": {},
   "outputs": [],
   "source": [
    "X = MinMaxScaler().fit_transform(train_for_predict_complexity.iloc[:,3:-1])\n",
    "complexity_pred = xgb_r_best.predict(X)"
   ]
  },
  {
   "cell_type": "code",
   "execution_count": 62,
   "metadata": {},
   "outputs": [],
   "source": [
    "train_for_predict_complexity['complexity_pred'] = complexity_pred"
   ]
  },
  {
   "cell_type": "code",
   "execution_count": 63,
   "metadata": {},
   "outputs": [],
   "source": [
    "teams_results_train = pd.merge(teams_results_train, train_for_predict_complexity[['id_tournament', 'id_team', 'id_player', 'complexity_pred']], on=['id_tournament', 'id_team', 'id_player'])"
   ]
  },
  {
   "cell_type": "code",
   "execution_count": 65,
   "metadata": {},
   "outputs": [],
   "source": [
    "del X"
   ]
  },
  {
   "cell_type": "code",
   "execution_count": 67,
   "metadata": {},
   "outputs": [],
   "source": [
    "lr = LogisticRegression(n_jobs=-1)"
   ]
  },
  {
   "cell_type": "code",
   "execution_count": 78,
   "metadata": {},
   "outputs": [
    {
     "name": "stdout",
     "output_type": "stream",
     "text": [
      "CPU times: user 18.7 s, sys: 1.03 s, total: 19.7 s\n",
      "Wall time: 2min 45s\n"
     ]
    },
    {
     "data": {
      "text/plain": [
       "LogisticRegression(n_jobs=-1)"
      ]
     },
     "execution_count": 78,
     "metadata": {},
     "output_type": "execute_result"
    }
   ],
   "source": [
    "X_true = teams_results_train.drop(columns=['id_tournament', 'id_team', 'id_player', 'answer', 'id_answer', 'position', 'complexity_pred']).to_numpy()\n",
    "X_true = MinMaxScaler().fit_transform(X_true)\n",
    "y_true = teams_results_train['answer']\n",
    "\n",
    "inds=random.sample(range(X_true.shape[0]), X_true.shape[0]//2)\n",
    "%time lr.fit(X_true[inds], y_true[inds])"
   ]
  },
  {
   "cell_type": "code",
   "execution_count": 79,
   "metadata": {},
   "outputs": [],
   "source": [
    "X_train = teams_results_train.drop(columns=['id_tournament', 'id_team', 'id_player', 'answer', 'id_answer', 'position', 'complexity']).to_numpy()\n",
    "X_train = MinMaxScaler().fit_transform(X_train)"
   ]
  },
  {
   "cell_type": "code",
   "execution_count": 83,
   "metadata": {},
   "outputs": [
    {
     "data": {
      "text/plain": [
       "0.5986750372822552"
      ]
     },
     "execution_count": 83,
     "metadata": {},
     "output_type": "execute_result"
    }
   ],
   "source": [
    "f1_score(y_true, lr.predict(X_train), average='weighted')"
   ]
  },
  {
   "cell_type": "code",
   "execution_count": 84,
   "metadata": {},
   "outputs": [],
   "source": [
    "std_complexity_pred = teams_results_train.groupby(['id_tournament', 'id_team'], sort=False)['complexity_pred'].agg(lambda x: np.sqrt(x.std())/2)"
   ]
  },
  {
   "cell_type": "code",
   "execution_count": 86,
   "metadata": {},
   "outputs": [],
   "source": [
    "inds_tournament_team = teams_results_train.groupby(['id_tournament', 'id_team'], sort=False).indices"
   ]
  },
  {
   "cell_type": "code",
   "execution_count": 90,
   "metadata": {},
   "outputs": [
    {
     "name": "stderr",
     "output_type": "stream",
     "text": [
      "100%|██████████| 86360/86360 [01:31<00:00, 947.99it/s] \n"
     ]
    }
   ],
   "source": [
    "for inds, std_complexity in tqdm(std_complexity_pred.to_dict().items()):\n",
    "    inds = inds_tournament_team[inds]\n",
    "    complexity_for_tournament = teams_results_train.iloc[inds]['complexity_pred'].values\n",
    "    noise_complexity = np.random.normal(0, std_complexity, len(inds))\n",
    "    complexity = complexity_for_tournament + noise_complexity\n",
    "    \n",
    "    teams_results_train.at[inds, 'complexity_pred'] = complexity"
   ]
  },
  {
   "cell_type": "code",
   "execution_count": 91,
   "metadata": {},
   "outputs": [],
   "source": [
    "X_train = teams_results_train.drop(columns=['id_tournament', 'id_team', 'id_player', 'answer', 'id_answer', 'position', 'complexity']).to_numpy()\n",
    "X_train = MinMaxScaler().fit_transform(X_train)\n",
    "\n",
    "y_train = teams_results_train['answer']"
   ]
  },
  {
   "cell_type": "code",
   "execution_count": 92,
   "metadata": {},
   "outputs": [
    {
     "data": {
      "text/plain": [
       "0.4426680776713311"
      ]
     },
     "execution_count": 92,
     "metadata": {},
     "output_type": "execute_result"
    }
   ],
   "source": [
    "f1_score(y_train, lr.predict(X_train), average='weighted')"
   ]
  },
  {
   "cell_type": "code",
   "execution_count": 94,
   "metadata": {},
   "outputs": [
    {
     "name": "stdout",
     "output_type": "stream",
     "text": [
      "                             _:  2.4 GiB\n",
      "           teams_results_train:  2.4 GiB\n",
      "                           _64:  2.4 GiB\n",
      "                           _93:  2.4 GiB\n",
      "                       X_train:  1.1 GiB\n",
      "                        X_true:  1.1 GiB\n",
      "                       y_train: 878.4 MiB\n",
      "                        y_true: 878.4 MiB\n",
      "            teams_results_test: 340.2 MiB\n",
      "  train_for_predict_complexity: 36.2 MiB\n"
     ]
    }
   ],
   "source": [
    "import sys\n",
    "def sizeof_fmt(num, suffix='B'):\n",
    "    ''' by Fred Cirera,  https://stackoverflow.com/a/1094933/1870254, modified'''\n",
    "    for unit in ['','Ki','Mi','Gi','Ti','Pi','Ei','Zi']:\n",
    "        if abs(num) < 1024.0:\n",
    "            return \"%3.1f %s%s\" % (num, unit, suffix)\n",
    "        num /= 1024.0\n",
    "    return \"%.1f %s%s\" % (num, 'Yi', suffix)\n",
    "\n",
    "for name, size in sorted(((name, sys.getsizeof(value)) for name, value in locals().items()),\n",
    "                         key= lambda x: -x[1])[:10]:\n",
    "    print(\"{:>30}: {:>8}\".format(name, sizeof_fmt(size)))"
   ]
  },
  {
   "cell_type": "code",
   "execution_count": 95,
   "metadata": {},
   "outputs": [],
   "source": [
    "teams_results_train['answer_pred'] = lr.predict(X_train)"
   ]
  },
  {
   "cell_type": "code",
   "execution_count": 96,
   "metadata": {
    "scrolled": false
   },
   "outputs": [],
   "source": [
    "true_position = pd.DataFrame(teams_results_train.groupby(['id_tournament', 'id_team'], sort=False)['position'].mean())\n",
    "true_position = true_position.sort_values(by=['id_tournament', 'id_team']).reset_index()"
   ]
  },
  {
   "cell_type": "code",
   "execution_count": 97,
   "metadata": {},
   "outputs": [],
   "source": [
    "pred_position = teams_results_train.groupby(['id_tournament', 'id_team', 'id_player'], sort=False)['answer', 'answer_pred'].sum()\n",
    "pred_position = pred_position.reset_index()\n",
    "pred_position = pred_position.groupby(['id_tournament', 'id_team'], sort=False)['answer', 'answer_pred'].agg(lambda x: x.quantile(0.75))\n",
    "pred_position = pred_position.reset_index()    \n",
    "pred_position = pred_position.sort_values(by=['id_tournament', 'answer_pred'], ascending=False).reset_index()"
   ]
  },
  {
   "cell_type": "code",
   "execution_count": 98,
   "metadata": {},
   "outputs": [
    {
     "name": "stderr",
     "output_type": "stream",
     "text": [
      "100%|██████████| 672/672 [00:07<00:00, 86.09it/s] \n"
     ]
    }
   ],
   "source": [
    "for id_tournament in tqdm(pred_position.id_tournament.unique()):\n",
    "    answers_pred = pred_position.loc[pred_position.id_tournament==id_tournament, 'answer_pred'].values\n",
    "    num_teams = len(answers_pred)\n",
    "    positions = [0]*num_teams\n",
    "    start_position = 1\n",
    "    while start_position<num_teams:\n",
    "        answers = answers_pred[start_position-1]\n",
    "        current_answers = answers_pred.tolist().count(answers)\n",
    "        if current_answers > 1:\n",
    "            current_pos = start_position + current_answers/2\n",
    "        else:\n",
    "            current_pos = start_position\n",
    "        for pos in range(current_answers):\n",
    "            positions[start_position+pos-1] = current_pos\n",
    "        start_position += current_answers\n",
    "        \n",
    "    pred_position.loc[pred_position.id_tournament==id_tournament, 'position_pred'] = positions\n",
    "    "
   ]
  },
  {
   "cell_type": "code",
   "execution_count": 99,
   "metadata": {},
   "outputs": [],
   "source": [
    "pred_position = pred_position.sort_values(by=['id_tournament', 'id_team'])"
   ]
  },
  {
   "cell_type": "code",
   "execution_count": 106,
   "metadata": {},
   "outputs": [],
   "source": [
    "predict_positions_result = pd.merge(true_position, pred_position, on=['id_tournament','id_team'])\n",
    "predict_positions_result = predict_positions_result.reset_index()"
   ]
  },
  {
   "cell_type": "code",
   "execution_count": 135,
   "metadata": {},
   "outputs": [
    {
     "name": "stdout",
     "output_type": "stream",
     "text": [
      "Корреляция Спирмена: 0.898\n",
      "Корреляция Кендалла: 0.735\n"
     ]
    }
   ],
   "source": [
    "corr_spearman, _ = spearmanr(predict_positions_result['position'], predict_positions_result['position_pred'])\n",
    "corr_kendall, _ = kendalltau(predict_positions_result['position'], predict_positions_result['position_pred'])\n",
    "print('Корреляция Спирмена: %.3f' % corr_spearman)\n",
    "print('Корреляция Кендалла: %.3f' % corr_kendall)"
   ]
  },
  {
   "cell_type": "markdown",
   "metadata": {},
   "source": [
    "### 2020 BaseLine"
   ]
  },
  {
   "cell_type": "code",
   "execution_count": 108,
   "metadata": {},
   "outputs": [],
   "source": [
    "test_for_predict_complexity = teams_results_test.groupby(['id_tournament', 'id_team', 'id_player'], sort=False)['type_of_tournament', \n",
    "                                                       'duration', \n",
    "                                                       'count_teams', \n",
    "                                                       'factor_name', \n",
    "                                                       'flag_team', \n",
    "                                                       'count_players',\n",
    "                                                       'flags_players_legionnaire', \n",
    "                                                       'flag_player', \n",
    "                                                       'various_locations',\n",
    "                                                       'count_questions', \n",
    "                                                       'tournament_rate', \n",
    "                                                       'team_rate', \n",
    "                                                       'power_of_player'].mean()\n",
    "test_for_predict_complexity.reset_index(inplace=True)"
   ]
  },
  {
   "cell_type": "code",
   "execution_count": 110,
   "metadata": {},
   "outputs": [],
   "source": [
    "X = MinMaxScaler().fit_transform(test_for_predict_complexity.iloc[:,3:])"
   ]
  },
  {
   "cell_type": "code",
   "execution_count": 111,
   "metadata": {},
   "outputs": [],
   "source": [
    "complexity_pred = xgb_r_best.predict(X)"
   ]
  },
  {
   "cell_type": "code",
   "execution_count": 112,
   "metadata": {},
   "outputs": [],
   "source": [
    "test_for_predict_complexity['complexity_pred'] = complexity_pred"
   ]
  },
  {
   "cell_type": "code",
   "execution_count": 113,
   "metadata": {},
   "outputs": [],
   "source": [
    "teams_results_test = pd.merge(teams_results_test, test_for_predict_complexity[['id_tournament', 'id_team', 'id_player', 'complexity_pred']], on=['id_tournament', 'id_team', 'id_player'])"
   ]
  },
  {
   "cell_type": "code",
   "execution_count": 114,
   "metadata": {},
   "outputs": [],
   "source": [
    "std_complexity_pred = teams_results_test.groupby(['id_tournament', 'id_team'], sort=False)['complexity_pred'].agg(lambda x: np.sqrt(x.std())/2)"
   ]
  },
  {
   "cell_type": "code",
   "execution_count": 115,
   "metadata": {},
   "outputs": [],
   "source": [
    "inds_tournament_team_test = teams_results_test.groupby(['id_tournament', 'id_team'], sort=False).indices"
   ]
  },
  {
   "cell_type": "code",
   "execution_count": 116,
   "metadata": {},
   "outputs": [
    {
     "name": "stderr",
     "output_type": "stream",
     "text": [
      "100%|██████████| 22366/22366 [03:36<00:00, 103.47it/s]\n"
     ]
    }
   ],
   "source": [
    "for inds, std_complexity in tqdm(std_complexity_pred.to_dict().items()):\n",
    "    inds = inds_tournament_team_test[inds]\n",
    "    complexity_for_tournament = teams_results_test.iloc[inds]['complexity_pred'].values\n",
    "    noise_complexity = np.random.normal(0, std_complexity, len(inds))\n",
    "    complexity = complexity_for_tournament + noise_complexity\n",
    "    \n",
    "    teams_results_test.at[inds, 'complexity_pred'] = complexity"
   ]
  },
  {
   "cell_type": "code",
   "execution_count": 117,
   "metadata": {},
   "outputs": [],
   "source": [
    "X_test = teams_results_test.drop(columns=['id_tournament', 'id_team', 'id_player', 'answer', 'id_answer', 'position']).to_numpy()\n",
    "X_test = MinMaxScaler().fit_transform(X_test)"
   ]
  },
  {
   "cell_type": "code",
   "execution_count": 118,
   "metadata": {},
   "outputs": [],
   "source": [
    "teams_results_test['answer_pred'] = lr.predict(X_test)"
   ]
  },
  {
   "cell_type": "code",
   "execution_count": 119,
   "metadata": {},
   "outputs": [
    {
     "data": {
      "text/plain": [
       "0.4150792134603233"
      ]
     },
     "execution_count": 119,
     "metadata": {},
     "output_type": "execute_result"
    }
   ],
   "source": [
    "f1_score(teams_results_test['answer'], teams_results_test['answer_pred'], average='weighted')"
   ]
  },
  {
   "cell_type": "raw",
   "metadata": {},
   "source": [
    "teams_results_train.to_csv('2019_with_complexity.csv', index=False)\n",
    "teams_results_test.to_csv('2020_with_complexity.csv', index=False)"
   ]
  },
  {
   "cell_type": "code",
   "execution_count": 121,
   "metadata": {
    "scrolled": false
   },
   "outputs": [],
   "source": [
    "true_position_test = pd.DataFrame(teams_results_test.groupby(['id_tournament', 'id_team'], sort=False)['position'].mean())\n",
    "true_position_test = true_position_test.sort_values(by=['id_tournament', 'id_team']).reset_index()"
   ]
  },
  {
   "cell_type": "code",
   "execution_count": 122,
   "metadata": {},
   "outputs": [],
   "source": [
    "pred_position_test = teams_results_test.groupby(['id_tournament', 'id_team', 'id_player'], sort=False)['answer', 'answer_pred'].sum()\n",
    "pred_position_test = pred_position_test.reset_index()\n",
    "pred_position_test = pred_position_test.groupby(['id_tournament', 'id_team'], sort=False)['answer', 'answer_pred'].agg(lambda x: x.quantile(0.75))\n",
    "pred_position_test = pred_position_test.reset_index()    \n",
    "pred_position_test = pred_position_test.sort_values(by=['id_tournament', 'answer_pred'], ascending=False).reset_index()"
   ]
  },
  {
   "cell_type": "code",
   "execution_count": 123,
   "metadata": {},
   "outputs": [
    {
     "name": "stderr",
     "output_type": "stream",
     "text": [
      "100%|██████████| 173/173 [00:02<00:00, 84.38it/s] \n"
     ]
    }
   ],
   "source": [
    "for id_tournament in tqdm(pred_position_test.id_tournament.unique()):\n",
    "    answers_pred = pred_position_test.loc[pred_position_test.id_tournament==id_tournament, 'answer_pred'].values\n",
    "    num_teams = len(answers_pred)\n",
    "    positions = [0]*num_teams\n",
    "    start_position = 1\n",
    "    while start_position<num_teams:\n",
    "        answers = answers_pred[start_position-1]\n",
    "        current_answers = answers_pred.tolist().count(answers)\n",
    "        if current_answers > 1:\n",
    "            current_pos = start_position + current_answers/2\n",
    "        else:\n",
    "            current_pos = start_position\n",
    "        for pos in range(current_answers):\n",
    "            positions[start_position+pos-1] = current_pos\n",
    "        start_position += current_answers\n",
    "        \n",
    "    pred_position_test.loc[pred_position_test.id_tournament==id_tournament, 'position_pred'] = positions\n",
    "    "
   ]
  },
  {
   "cell_type": "code",
   "execution_count": 124,
   "metadata": {},
   "outputs": [],
   "source": [
    "pred_position_test = pred_position_test.sort_values(by=['id_tournament', 'id_team'])"
   ]
  },
  {
   "cell_type": "code",
   "execution_count": 125,
   "metadata": {},
   "outputs": [],
   "source": [
    "predict_positions_result_test = pd.merge(true_position_test, pred_position_test, on=['id_tournament','id_team'])\n",
    "predict_positions_result_test = predict_positions_result_test.reset_index()"
   ]
  },
  {
   "cell_type": "code",
   "execution_count": 132,
   "metadata": {},
   "outputs": [
    {
     "name": "stdout",
     "output_type": "stream",
     "text": [
      "Корреляция Спирмена: 0.822\n",
      "Корреляция Кендалла: 0.644\n"
     ]
    }
   ],
   "source": [
    "corr_spearman, _ = spearmanr(predict_positions_result_test['position'], predict_positions_result_test['position_pred'])\n",
    "corr_kendall, _ = kendalltau(predict_positions_result_test['position'], predict_positions_result_test['position_pred'])\n",
    "print('Корреляция Спирмена: %.3f' % corr_spearman)\n",
    "print('Корреляция Кендалла: %.3f' % corr_kendall)"
   ]
  },
  {
   "cell_type": "markdown",
   "metadata": {},
   "source": [
    "### Рейтинг игроков.\n",
    "Просто взял и посчитал число правильных ответов для каждого игрока по предсказанным данным.\\\n",
    "p.s. Николенко Сергей где то примерно на 703 месте, с 51 правильным ответом, сорян("
   ]
  },
  {
   "cell_type": "code",
   "execution_count": 34,
   "metadata": {},
   "outputs": [
    {
     "data": {
      "text/html": [
       "<div>\n",
       "<style scoped>\n",
       "    .dataframe tbody tr th:only-of-type {\n",
       "        vertical-align: middle;\n",
       "    }\n",
       "\n",
       "    .dataframe tbody tr th {\n",
       "        vertical-align: top;\n",
       "    }\n",
       "\n",
       "    .dataframe thead th {\n",
       "        text-align: right;\n",
       "    }\n",
       "</style>\n",
       "<table border=\"1\" class=\"dataframe\">\n",
       "  <thead>\n",
       "    <tr style=\"text-align: right;\">\n",
       "      <th></th>\n",
       "      <th>index</th>\n",
       "      <th>surname</th>\n",
       "      <th>name</th>\n",
       "      <th>answer_pred</th>\n",
       "    </tr>\n",
       "  </thead>\n",
       "  <tbody>\n",
       "    <tr>\n",
       "      <th>0</th>\n",
       "      <td>2981</td>\n",
       "      <td>Сорожкин</td>\n",
       "      <td>Артём</td>\n",
       "      <td>556.0</td>\n",
       "    </tr>\n",
       "    <tr>\n",
       "      <th>1</th>\n",
       "      <td>366</td>\n",
       "      <td>Болган</td>\n",
       "      <td>Валерий</td>\n",
       "      <td>450.0</td>\n",
       "    </tr>\n",
       "    <tr>\n",
       "      <th>2</th>\n",
       "      <td>3126</td>\n",
       "      <td>Тимошенко</td>\n",
       "      <td>Егор</td>\n",
       "      <td>420.0</td>\n",
       "    </tr>\n",
       "    <tr>\n",
       "      <th>3</th>\n",
       "      <td>2713</td>\n",
       "      <td>Рыжанова</td>\n",
       "      <td>Наталия</td>\n",
       "      <td>403.0</td>\n",
       "    </tr>\n",
       "    <tr>\n",
       "      <th>4</th>\n",
       "      <td>1206</td>\n",
       "      <td>Иванченко</td>\n",
       "      <td>Сергей</td>\n",
       "      <td>398.0</td>\n",
       "    </tr>\n",
       "    <tr>\n",
       "      <th>5</th>\n",
       "      <td>3196</td>\n",
       "      <td>Тюнькин</td>\n",
       "      <td>Игорь</td>\n",
       "      <td>393.0</td>\n",
       "    </tr>\n",
       "    <tr>\n",
       "      <th>6</th>\n",
       "      <td>924</td>\n",
       "      <td>Дидбаридзе</td>\n",
       "      <td>Юлия</td>\n",
       "      <td>379.0</td>\n",
       "    </tr>\n",
       "    <tr>\n",
       "      <th>7</th>\n",
       "      <td>2055</td>\n",
       "      <td>Мельникова</td>\n",
       "      <td>Ольга</td>\n",
       "      <td>374.0</td>\n",
       "    </tr>\n",
       "    <tr>\n",
       "      <th>8</th>\n",
       "      <td>8333</td>\n",
       "      <td>Черкасов</td>\n",
       "      <td>Сергей</td>\n",
       "      <td>369.0</td>\n",
       "    </tr>\n",
       "    <tr>\n",
       "      <th>9</th>\n",
       "      <td>2996</td>\n",
       "      <td>Спешков</td>\n",
       "      <td>Сергей</td>\n",
       "      <td>369.0</td>\n",
       "    </tr>\n",
       "    <tr>\n",
       "      <th>10</th>\n",
       "      <td>5975</td>\n",
       "      <td>Макеев</td>\n",
       "      <td>Николай</td>\n",
       "      <td>366.0</td>\n",
       "    </tr>\n",
       "    <tr>\n",
       "      <th>11</th>\n",
       "      <td>2926</td>\n",
       "      <td>Смирнов</td>\n",
       "      <td>Виктор</td>\n",
       "      <td>350.0</td>\n",
       "    </tr>\n",
       "    <tr>\n",
       "      <th>12</th>\n",
       "      <td>2952</td>\n",
       "      <td>Соколов</td>\n",
       "      <td>Андрей</td>\n",
       "      <td>330.0</td>\n",
       "    </tr>\n",
       "    <tr>\n",
       "      <th>13</th>\n",
       "      <td>3575</td>\n",
       "      <td>Штефан</td>\n",
       "      <td>Андрей</td>\n",
       "      <td>329.0</td>\n",
       "    </tr>\n",
       "    <tr>\n",
       "      <th>14</th>\n",
       "      <td>4211</td>\n",
       "      <td>Леонова</td>\n",
       "      <td>Дарья</td>\n",
       "      <td>322.0</td>\n",
       "    </tr>\n",
       "    <tr>\n",
       "      <th>15</th>\n",
       "      <td>7622</td>\n",
       "      <td>Цейкинский</td>\n",
       "      <td>Дмитрий</td>\n",
       "      <td>316.0</td>\n",
       "    </tr>\n",
       "    <tr>\n",
       "      <th>16</th>\n",
       "      <td>9542</td>\n",
       "      <td>Гаврищук</td>\n",
       "      <td>Александр</td>\n",
       "      <td>315.0</td>\n",
       "    </tr>\n",
       "    <tr>\n",
       "      <th>17</th>\n",
       "      <td>5961</td>\n",
       "      <td>Богданова</td>\n",
       "      <td>Ольга</td>\n",
       "      <td>314.0</td>\n",
       "    </tr>\n",
       "    <tr>\n",
       "      <th>18</th>\n",
       "      <td>5067</td>\n",
       "      <td>Тарарыков</td>\n",
       "      <td>Дмитрий</td>\n",
       "      <td>312.0</td>\n",
       "    </tr>\n",
       "    <tr>\n",
       "      <th>19</th>\n",
       "      <td>1047</td>\n",
       "      <td>Ершов</td>\n",
       "      <td>Павел</td>\n",
       "      <td>311.0</td>\n",
       "    </tr>\n",
       "  </tbody>\n",
       "</table>\n",
       "</div>"
      ],
      "text/plain": [
       "    index     surname       name  answer_pred\n",
       "0    2981    Сорожкин      Артём        556.0\n",
       "1     366      Болган    Валерий        450.0\n",
       "2    3126   Тимошенко       Егор        420.0\n",
       "3    2713    Рыжанова    Наталия        403.0\n",
       "4    1206   Иванченко     Сергей        398.0\n",
       "5    3196     Тюнькин      Игорь        393.0\n",
       "6     924  Дидбаридзе       Юлия        379.0\n",
       "7    2055  Мельникова      Ольга        374.0\n",
       "8    8333    Черкасов     Сергей        369.0\n",
       "9    2996     Спешков     Сергей        369.0\n",
       "10   5975      Макеев    Николай        366.0\n",
       "11   2926     Смирнов     Виктор        350.0\n",
       "12   2952     Соколов     Андрей        330.0\n",
       "13   3575      Штефан     Андрей        329.0\n",
       "14   4211     Леонова      Дарья        322.0\n",
       "15   7622  Цейкинский    Дмитрий        316.0\n",
       "16   9542    Гаврищук  Александр        315.0\n",
       "17   5961   Богданова      Ольга        314.0\n",
       "18   5067   Тарарыков    Дмитрий        312.0\n",
       "19   1047       Ершов      Павел        311.0"
      ]
     },
     "execution_count": 34,
     "metadata": {},
     "output_type": "execute_result"
    }
   ],
   "source": [
    "rating_player = pd.merge(players, \n",
    "         teams_results_test.groupby('id_player', sort=False)['answer_pred'].sum(), \n",
    "         left_on='id', \n",
    "         right_on='id_player', \n",
    "         sort=False).reset_index()\\\n",
    "[['surname', \n",
    "    'name', \n",
    "    'answer_pred']].sort_values('answer_pred', \n",
    "                                ascending=False).reset_index()\n",
    "rating_player.head(20)"
   ]
  },
  {
   "cell_type": "markdown",
   "metadata": {},
   "source": [
    " "
   ]
  },
  {
   "cell_type": "markdown",
   "metadata": {},
   "source": [
    " "
   ]
  },
  {
   "cell_type": "markdown",
   "metadata": {},
   "source": [
    " "
   ]
  },
  {
   "cell_type": "markdown",
   "metadata": {},
   "source": [
    "<a class=\"anchor\" id=\"em\"></a>\n",
    "[К оглавлению](#toc)\\\n",
    "[1. BaseLine модель](#baseline)\n",
    "\n",
    "# 2. EM Алгоритм\n",
    "\n",
    "Когда игрок сидит за столом на правильность его мыслей и, как результат, на качество его игры влияют сокомандники.\\\n",
    "Бывает такое, что игрок единственный за столом знает ответ, а вся остальная команда думает неправильно и игрок под действием мнения большинства не \"топит\" за свою версию ответа, а команда в итоге дает неверный ответ.\\\n",
    "С другой стороны, когда игрок единственный думает неправильно, а все остальные в его команде рассуждают правильно, то и он скорее всего примет их точку зрения и команда в итоге ответит правильно.\\\n",
    "Бывают и исключения, а бывает и такая схема взаимодействия игроков в команде, когда у каждого игрока есть роль и, в зависимости от тематики вопроса, даже один в поле воин, точнее другие уверены в его абсолютном знании предметной области по сравнению с остальной командой и всецело ему доверяют.\\\n",
    "Например, если вопрос про кинематограф и в команде есть знаток этой сферы, то, даже если команда будет сомневаться в его ответе, он может затопить и в итоге его ответ будет принят, даже если он будет неверный.\\\n",
    "Такая схема команды часто бывает на квизах, но на ЧГК думаю немного иначе, вопросы там скорее носят более общий характер и чаще команда в полном составе участвует в обсуждении, а решение принимает капитан или игрок взявший на себя роль лидера(на квизах - тот кто громче говорит).\\\n",
    "Поэтому следует учесть влияние на игрока его сокомандников в общем случае. Команда в лице игрока отвечает правильно если он сам или кто-то из его сокомандников дает правильный ответ, так как я верю, что, услышав правльный ответ во время обсуждения от одного из игроков, оставшаяся команда прислушается к нему и возьмет вопрос.\n",
    "\n",
    "ЕМ алгоритм я буду использовать для того, чтобы учитывать правильность ответов сокомандников для каждого игрока.\n",
    "М-шаг ничем не отличается от обычного ЕМ алгоритма, а Е-шаг должен учитывать влияние сокомандников.\n",
    "Поэтому:\\\n",
    "$$\\mathbb{E}{[z]} = \\frac{\\pi\\rho_{player}}{1-\\prod\\limits_{teammates}(1-\\pi\\rho_{teammate})} ,$$\\\n",
    "где $\\mathbb{E}{[z]}$ - математическое ожидание скрытой переменной $z$,\\\n",
    "$\\pi$ - веротяность принадлежности к определенному классу скрытой переменной $z$,\\\n",
    "$\\rho_{player}$ - логистическая регрессия(сигмоида) по данным игрока,\\\n",
    "$\\prod\\limits_{teammates}$ - произведение по всем игрокам,\\\n",
    "$\\rho_{teammate}$ - логистическая регрессия(сигмоида) по данным сокомандника\\\n",
    "\n",
    "Так как показатель логарифма правдоподобия очень большой, критерий останова для данных на 2019 год будет изменение $logL$ менее чем на 100, а для 2020 года менее чем на 50 или превышение $logL$ отметки в 27 млн(без этого условия алгоритм блуждал в районе 20 млн поднимаясь в пике до 36 и затем падая до 15, приближаясь к сходимости в районе 22, когда изменение $logL$ было менее 1 тыс, но затем снова скачок).\\\n",
    "В общих чертах алгоритм такой: \n",
    "- Е-шаг - считаем матожидание $z$ для выборки, пересчитываем его с учетом зависимостей с определенными ограничениями, чтобы не нарваться на ошибку\n",
    "- М-шаг - пересчитываем $\\pi, \\mu, \\sigma$\n",
    "\n",
    "Выход ЕМ алгоритма как и в BaseLine я преобразовал в уверенность(квантиль 75%) команды ответить правильно на вопрос, затем ранжировал команды потурнирно.\\\n",
    "__Результаты ЕМ алгоритма:__\\\n",
    "___2019 год:___\\\n",
    "__Корреляция Спирмена: 0.819\\\n",
    "Корреляция Кендалла: 0.636__\\\n",
    "___2020 год:___\\\n",
    "__Корреляция Спирмена: 0.797\\\n",
    "Корреляция Кендалла: 0.595__\n",
    "\n",
    "[К оглавлению](#toc)\\\n",
    "[3. EM алгоритм v.2](#em2)"
   ]
  },
  {
   "cell_type": "markdown",
   "metadata": {},
   "source": [
    "### ЕМ алгоритм 2019"
   ]
  },
  {
   "cell_type": "code",
   "execution_count": 3,
   "metadata": {},
   "outputs": [],
   "source": [
    "columns = ['id_tournament', 'id_team', 'id_player', 'id_answer',\n",
    "            'flag_player', 'tournament_rate', 'team_rate', \n",
    "           'power_of_player', 'complexity_pred', 'answer']\n",
    "X = teams_results_train[columns]"
   ]
  },
  {
   "cell_type": "code",
   "execution_count": 4,
   "metadata": {},
   "outputs": [],
   "source": [
    "indices_question_by_team = list(X.groupby(['id_tournament', 'id_team', 'id_answer'], sort=False).indices.values())"
   ]
  },
  {
   "cell_type": "code",
   "execution_count": 137,
   "metadata": {},
   "outputs": [],
   "source": [
    "Xs = MinMaxScaler().fit_transform(X.iloc[:,4:-1].to_numpy())"
   ]
  },
  {
   "cell_type": "code",
   "execution_count": 208,
   "metadata": {},
   "outputs": [],
   "source": [
    "def main_e_step(Xs, pis, mus, sigmas, indices, allow_singular=False):\n",
    "    k = mus.shape[0]\n",
    "    z = np.array([pis[i] * sp.stats.multivariate_normal.pdf(Xs, mean=mus[i], cov=sigmas[i], allow_singular=allow_singular) for i in range(k) ])   \n",
    "    z = np.divide(z, np.sum(z, axis=0)).T\n",
    "    z_dependent = np.array([[None, None] for _ in range(Xs.shape[0])])\n",
    "    \n",
    "    for team_q in tqdm(indices):\n",
    "        for player in team_q:\n",
    "            teammate = [_id for _id in team_q if _id != player]\n",
    "            z_teammate = z[teammate]\n",
    "            z_teammate = 1 - z_teammate\n",
    "            z_teammate = np.prod(z_teammate, axis=0)\n",
    "            z_teammate = 1 - z_teammate\n",
    "            \n",
    "            if z_teammate[1]<0.5**(len(team_q)-1) and z[player][1]<0.5:\n",
    "                z_dependent_player = [1, 0]\n",
    "            elif z_teammate[0]<0.5**(len(team_q)-1) and z[player][0]<0.5:\n",
    "                z_dependent_player = [0, 1]\n",
    "            elif z_teammate[1]<0.5**(len(team_q)-1) and z[player][1]>0.5:\n",
    "                z_dependent_player = z[player]\n",
    "            elif z_teammate[0]<0.5**(len(team_q)-1) and z[player][0]>0.5:\n",
    "                z_dependent_player = z[player]\n",
    "            else:\n",
    "                z_dependent_player = np.divide(z[player], z_teammate)\n",
    "            z_dependent[player] = z_dependent_player\n",
    "    return z_dependent\n",
    "\n",
    "def m_step(xs, z):\n",
    "    k = z.shape[1]\n",
    "    pis = np.sum(z, axis=0) / np.sum(z)\n",
    "    mus = np.array([np.average(xs, weights=z[:,i], axis=0) for i in range(k)])\n",
    "    sigmas = np.array([np.cov(xs.T, aweights=z[:,i]) for i in range(k)])\n",
    "    return pis, mus, sigmas\n",
    "\n",
    "def loglikelihood(xs, pis, mus, sigmas, allow_singular=False):\n",
    "    k = mus.shape[0]\n",
    "    return np.sum(np.log(np.sum(np.array([ pis[i] * sp.stats.multivariate_normal.pdf(xs, mean=mus[i], cov=sigmas[i], allow_singular=allow_singular) for i in range(k) ]), axis=0)))"
   ]
  },
  {
   "cell_type": "code",
   "execution_count": 149,
   "metadata": {},
   "outputs": [
    {
     "name": "stderr",
     "output_type": "stream",
     "text": [
      "100%|██████████| 3789178/3789178 [10:28<00:00, 6027.30it/s] \n"
     ]
    }
   ],
   "source": [
    "k = 2\n",
    "mus = Xs[np.random.choice(Xs.shape[0], size=k, replace=False), : ]\n",
    "sigmas = np.array( [ np.identity(Xs.shape[1]) for _ in range(k) ] )\n",
    "pis = (1./k) * np.ones(k)\n",
    "\n",
    "z = main_e_step(Xs, pis, mus, sigmas, indices_question_by_team)\n",
    "new_pis, new_mus, new_sigmas = m_step(Xs, z)"
   ]
  },
  {
   "cell_type": "code",
   "execution_count": 150,
   "metadata": {},
   "outputs": [
    {
     "data": {
      "text/plain": [
       "-97477480.7705077"
      ]
     },
     "execution_count": 150,
     "metadata": {},
     "output_type": "execute_result"
    }
   ],
   "source": [
    "new_logl = loglikelihood(Xs, pis, mus, sigmas)\n",
    "new_logl"
   ]
  },
  {
   "cell_type": "code",
   "execution_count": 151,
   "metadata": {
    "scrolled": true
   },
   "outputs": [
    {
     "name": "stderr",
     "output_type": "stream",
     "text": [
      "100%|██████████| 3789178/3789178 [10:32<00:00, 5991.69it/s] \n"
     ]
    },
    {
     "name": "stdout",
     "output_type": "stream",
     "text": [
      "Логарифм правдоподобия на итерации 000: 90732353.644539\n"
     ]
    },
    {
     "name": "stderr",
     "output_type": "stream",
     "text": [
      "100%|██████████| 3789178/3789178 [10:28<00:00, 6033.29it/s] \n"
     ]
    },
    {
     "name": "stdout",
     "output_type": "stream",
     "text": [
      "Логарифм правдоподобия на итерации 001: 92121534.368344\n"
     ]
    },
    {
     "name": "stderr",
     "output_type": "stream",
     "text": [
      "100%|██████████| 3789178/3789178 [10:31<00:00, 6003.10it/s] \n"
     ]
    },
    {
     "name": "stdout",
     "output_type": "stream",
     "text": [
      "Логарифм правдоподобия на итерации 002: 98570178.861396\n"
     ]
    },
    {
     "name": "stderr",
     "output_type": "stream",
     "text": [
      "100%|██████████| 3789178/3789178 [10:25<00:00, 6061.50it/s] \n"
     ]
    },
    {
     "name": "stdout",
     "output_type": "stream",
     "text": [
      "Логарифм правдоподобия на итерации 003: 105855740.254002\n"
     ]
    },
    {
     "name": "stderr",
     "output_type": "stream",
     "text": [
      "100%|██████████| 3789178/3789178 [10:28<00:00, 6032.20it/s] \n"
     ]
    },
    {
     "name": "stdout",
     "output_type": "stream",
     "text": [
      "Логарифм правдоподобия на итерации 004: 109429133.708694\n"
     ]
    },
    {
     "name": "stderr",
     "output_type": "stream",
     "text": [
      "100%|██████████| 3789178/3789178 [10:22<00:00, 6088.71it/s] \n"
     ]
    },
    {
     "name": "stdout",
     "output_type": "stream",
     "text": [
      "Логарифм правдоподобия на итерации 005: 110706036.220585\n"
     ]
    },
    {
     "name": "stderr",
     "output_type": "stream",
     "text": [
      "100%|██████████| 3789178/3789178 [10:18<00:00, 6124.94it/s] \n"
     ]
    },
    {
     "name": "stdout",
     "output_type": "stream",
     "text": [
      "Логарифм правдоподобия на итерации 006: 111291508.699762\n"
     ]
    },
    {
     "name": "stderr",
     "output_type": "stream",
     "text": [
      "100%|██████████| 3789178/3789178 [10:18<00:00, 6130.21it/s] \n"
     ]
    },
    {
     "name": "stdout",
     "output_type": "stream",
     "text": [
      "Логарифм правдоподобия на итерации 007: 111615553.420428\n"
     ]
    },
    {
     "name": "stderr",
     "output_type": "stream",
     "text": [
      "100%|██████████| 3789178/3789178 [10:19<00:00, 6118.10it/s] \n"
     ]
    },
    {
     "name": "stdout",
     "output_type": "stream",
     "text": [
      "Логарифм правдоподобия на итерации 008: 111784245.343509\n"
     ]
    },
    {
     "name": "stderr",
     "output_type": "stream",
     "text": [
      "100%|██████████| 3789178/3789178 [10:18<00:00, 6124.94it/s] \n"
     ]
    },
    {
     "name": "stdout",
     "output_type": "stream",
     "text": [
      "Логарифм правдоподобия на итерации 009: 111929402.489407\n"
     ]
    },
    {
     "name": "stderr",
     "output_type": "stream",
     "text": [
      "100%|██████████| 3789178/3789178 [10:13<00:00, 6176.81it/s] \n"
     ]
    },
    {
     "name": "stdout",
     "output_type": "stream",
     "text": [
      "Логарифм правдоподобия на итерации 010: 112044703.484214\n"
     ]
    },
    {
     "name": "stderr",
     "output_type": "stream",
     "text": [
      "100%|██████████| 3789178/3789178 [10:16<00:00, 6149.37it/s] \n"
     ]
    },
    {
     "name": "stdout",
     "output_type": "stream",
     "text": [
      "Логарифм правдоподобия на итерации 011: 112163568.423372\n"
     ]
    },
    {
     "name": "stderr",
     "output_type": "stream",
     "text": [
      "100%|██████████| 3789178/3789178 [10:16<00:00, 6144.66it/s] \n"
     ]
    },
    {
     "name": "stdout",
     "output_type": "stream",
     "text": [
      "Логарифм правдоподобия на итерации 012: 112261614.852133\n"
     ]
    },
    {
     "name": "stderr",
     "output_type": "stream",
     "text": [
      "100%|██████████| 3789178/3789178 [10:18<00:00, 6130.76it/s] \n"
     ]
    },
    {
     "name": "stdout",
     "output_type": "stream",
     "text": [
      "Логарифм правдоподобия на итерации 013: 112331879.963250\n"
     ]
    },
    {
     "name": "stderr",
     "output_type": "stream",
     "text": [
      "100%|██████████| 3789178/3789178 [10:15<00:00, 6153.16it/s] \n"
     ]
    },
    {
     "name": "stdout",
     "output_type": "stream",
     "text": [
      "Логарифм правдоподобия на итерации 014: 112412089.628709\n"
     ]
    },
    {
     "name": "stderr",
     "output_type": "stream",
     "text": [
      "100%|██████████| 3789178/3789178 [10:09<00:00, 6216.37it/s] \n"
     ]
    },
    {
     "name": "stdout",
     "output_type": "stream",
     "text": [
      "Логарифм правдоподобия на итерации 015: 112459807.929158\n"
     ]
    },
    {
     "name": "stderr",
     "output_type": "stream",
     "text": [
      "100%|██████████| 3789178/3789178 [10:12<00:00, 6189.41it/s] \n"
     ]
    },
    {
     "name": "stdout",
     "output_type": "stream",
     "text": [
      "Логарифм правдоподобия на итерации 016: 112468192.333498\n"
     ]
    },
    {
     "name": "stderr",
     "output_type": "stream",
     "text": [
      "100%|██████████| 3789178/3789178 [10:10<00:00, 6206.51it/s] \n"
     ]
    },
    {
     "name": "stdout",
     "output_type": "stream",
     "text": [
      "Логарифм правдоподобия на итерации 017: 112466040.741056\n"
     ]
    },
    {
     "name": "stderr",
     "output_type": "stream",
     "text": [
      "100%|██████████| 3789178/3789178 [10:08<00:00, 6230.76it/s] \n"
     ]
    },
    {
     "name": "stdout",
     "output_type": "stream",
     "text": [
      "Логарифм правдоподобия на итерации 018: 112464250.735221\n"
     ]
    },
    {
     "name": "stderr",
     "output_type": "stream",
     "text": [
      "100%|██████████| 3789178/3789178 [10:10<00:00, 6203.48it/s] \n"
     ]
    },
    {
     "name": "stdout",
     "output_type": "stream",
     "text": [
      "Логарифм правдоподобия на итерации 019: 112461067.210139\n"
     ]
    },
    {
     "name": "stderr",
     "output_type": "stream",
     "text": [
      "100%|██████████| 3789178/3789178 [10:10<00:00, 6209.60it/s] \n"
     ]
    },
    {
     "name": "stdout",
     "output_type": "stream",
     "text": [
      "Логарифм правдоподобия на итерации 020: 112456372.675824\n"
     ]
    },
    {
     "name": "stderr",
     "output_type": "stream",
     "text": [
      "100%|██████████| 3789178/3789178 [10:12<00:00, 6184.34it/s] \n"
     ]
    },
    {
     "name": "stdout",
     "output_type": "stream",
     "text": [
      "Логарифм правдоподобия на итерации 021: 112453413.946324\n"
     ]
    },
    {
     "name": "stderr",
     "output_type": "stream",
     "text": [
      "100%|██████████| 3789178/3789178 [10:17<00:00, 6137.77it/s] \n"
     ]
    },
    {
     "name": "stdout",
     "output_type": "stream",
     "text": [
      "Логарифм правдоподобия на итерации 022: 112451114.826270\n"
     ]
    },
    {
     "name": "stderr",
     "output_type": "stream",
     "text": [
      "100%|██████████| 3789178/3789178 [10:37<00:00, 5940.21it/s] \n"
     ]
    },
    {
     "name": "stdout",
     "output_type": "stream",
     "text": [
      "Логарифм правдоподобия на итерации 023: 112449130.691118\n"
     ]
    },
    {
     "name": "stderr",
     "output_type": "stream",
     "text": [
      "100%|██████████| 3789178/3789178 [10:15<00:00, 6154.20it/s] \n"
     ]
    },
    {
     "name": "stdout",
     "output_type": "stream",
     "text": [
      "Логарифм правдоподобия на итерации 024: 112447932.700095\n"
     ]
    },
    {
     "name": "stderr",
     "output_type": "stream",
     "text": [
      "100%|██████████| 3789178/3789178 [10:34<00:00, 5967.76it/s] \n"
     ]
    },
    {
     "name": "stdout",
     "output_type": "stream",
     "text": [
      "Логарифм правдоподобия на итерации 025: 112447195.668714\n"
     ]
    },
    {
     "name": "stderr",
     "output_type": "stream",
     "text": [
      "100%|██████████| 3789178/3789178 [10:43<00:00, 5892.60it/s] \n"
     ]
    },
    {
     "name": "stdout",
     "output_type": "stream",
     "text": [
      "Логарифм правдоподобия на итерации 026: 112446692.386944\n"
     ]
    },
    {
     "name": "stderr",
     "output_type": "stream",
     "text": [
      "100%|██████████| 3789178/3789178 [10:40<00:00, 5915.79it/s] \n"
     ]
    },
    {
     "name": "stdout",
     "output_type": "stream",
     "text": [
      "Логарифм правдоподобия на итерации 027: 112446253.031202\n"
     ]
    },
    {
     "name": "stderr",
     "output_type": "stream",
     "text": [
      "100%|██████████| 3789178/3789178 [10:36<00:00, 5949.98it/s] \n"
     ]
    },
    {
     "name": "stdout",
     "output_type": "stream",
     "text": [
      "Логарифм правдоподобия на итерации 028: 112445900.083766\n"
     ]
    },
    {
     "name": "stderr",
     "output_type": "stream",
     "text": [
      "100%|██████████| 3789178/3789178 [10:36<00:00, 5953.38it/s] \n"
     ]
    },
    {
     "name": "stdout",
     "output_type": "stream",
     "text": [
      "Логарифм правдоподобия на итерации 029: 112445742.107759\n"
     ]
    },
    {
     "name": "stderr",
     "output_type": "stream",
     "text": [
      "100%|██████████| 3789178/3789178 [10:37<00:00, 5942.46it/s] \n"
     ]
    },
    {
     "name": "stdout",
     "output_type": "stream",
     "text": [
      "Логарифм правдоподобия на итерации 030: 112445566.549611\n"
     ]
    },
    {
     "name": "stderr",
     "output_type": "stream",
     "text": [
      "100%|██████████| 3789178/3789178 [10:35<00:00, 5963.71it/s] \n"
     ]
    },
    {
     "name": "stdout",
     "output_type": "stream",
     "text": [
      "Логарифм правдоподобия на итерации 031: 112445389.819920\n"
     ]
    },
    {
     "name": "stderr",
     "output_type": "stream",
     "text": [
      "100%|██████████| 3789178/3789178 [10:42<00:00, 5900.02it/s] \n"
     ]
    },
    {
     "name": "stdout",
     "output_type": "stream",
     "text": [
      "Логарифм правдоподобия на итерации 032: 112445284.392012\n"
     ]
    },
    {
     "name": "stderr",
     "output_type": "stream",
     "text": [
      "100%|██████████| 3789178/3789178 [10:19<00:00, 6116.00it/s] \n"
     ]
    },
    {
     "name": "stdout",
     "output_type": "stream",
     "text": [
      "Логарифм правдоподобия на итерации 033: 112445251.397628\n"
     ]
    },
    {
     "name": "stderr",
     "output_type": "stream",
     "text": [
      "  1%|▏         | 50627/3789178 [00:08<09:54, 6283.43it/s]\n"
     ]
    },
    {
     "ename": "KeyboardInterrupt",
     "evalue": "",
     "output_type": "error",
     "traceback": [
      "\u001b[0;31m---------------------------------------------------------------------------\u001b[0m",
      "\u001b[0;31mKeyboardInterrupt\u001b[0m                         Traceback (most recent call last)",
      "\u001b[0;32m<ipython-input-151-d99bacde4e24>\u001b[0m in \u001b[0;36m<module>\u001b[0;34m\u001b[0m\n\u001b[1;32m      1\u001b[0m \u001b[0;32mfor\u001b[0m \u001b[0miIter\u001b[0m \u001b[0;32min\u001b[0m \u001b[0mrange\u001b[0m\u001b[0;34m(\u001b[0m\u001b[0;36m5000\u001b[0m\u001b[0;34m)\u001b[0m\u001b[0;34m:\u001b[0m\u001b[0;34m\u001b[0m\u001b[0;34m\u001b[0m\u001b[0m\n\u001b[1;32m      2\u001b[0m     \u001b[0mold_logl\u001b[0m \u001b[0;34m=\u001b[0m \u001b[0mnew_logl\u001b[0m\u001b[0;34m\u001b[0m\u001b[0;34m\u001b[0m\u001b[0m\n\u001b[0;32m----> 3\u001b[0;31m     \u001b[0mz\u001b[0m \u001b[0;34m=\u001b[0m \u001b[0mmain_e_step\u001b[0m\u001b[0;34m(\u001b[0m\u001b[0mXs\u001b[0m\u001b[0;34m,\u001b[0m \u001b[0mpis\u001b[0m\u001b[0;34m,\u001b[0m \u001b[0mmus\u001b[0m\u001b[0;34m,\u001b[0m \u001b[0msigmas\u001b[0m\u001b[0;34m,\u001b[0m \u001b[0mindices_question_by_team\u001b[0m\u001b[0;34m)\u001b[0m\u001b[0;34m\u001b[0m\u001b[0;34m\u001b[0m\u001b[0m\n\u001b[0m\u001b[1;32m      4\u001b[0m     \u001b[0mnew_pis\u001b[0m\u001b[0;34m,\u001b[0m \u001b[0mnew_mus\u001b[0m\u001b[0;34m,\u001b[0m \u001b[0mnew_sigmas\u001b[0m \u001b[0;34m=\u001b[0m \u001b[0mm_step\u001b[0m\u001b[0;34m(\u001b[0m\u001b[0mXs\u001b[0m\u001b[0;34m,\u001b[0m \u001b[0mz\u001b[0m\u001b[0;34m)\u001b[0m\u001b[0;34m\u001b[0m\u001b[0;34m\u001b[0m\u001b[0m\n\u001b[1;32m      5\u001b[0m \u001b[0;34m\u001b[0m\u001b[0m\n",
      "\u001b[0;32m<ipython-input-148-8dffa7668682>\u001b[0m in \u001b[0;36mmain_e_step\u001b[0;34m(Xs, pis, mus, sigmas, indices)\u001b[0m\n\u001b[1;32m     19\u001b[0m             \u001b[0mz_teammate\u001b[0m \u001b[0;34m=\u001b[0m \u001b[0;36m1\u001b[0m \u001b[0;34m-\u001b[0m \u001b[0mz_teammate\u001b[0m\u001b[0;34m\u001b[0m\u001b[0;34m\u001b[0m\u001b[0m\n\u001b[1;32m     20\u001b[0m             \u001b[0mz_teammate\u001b[0m \u001b[0;34m=\u001b[0m \u001b[0mnp\u001b[0m\u001b[0;34m.\u001b[0m\u001b[0mprod\u001b[0m\u001b[0;34m(\u001b[0m\u001b[0mz_teammate\u001b[0m\u001b[0;34m,\u001b[0m \u001b[0maxis\u001b[0m\u001b[0;34m=\u001b[0m\u001b[0;36m0\u001b[0m\u001b[0;34m)\u001b[0m\u001b[0;34m\u001b[0m\u001b[0;34m\u001b[0m\u001b[0m\n\u001b[0;32m---> 21\u001b[0;31m             \u001b[0mz_teammate\u001b[0m \u001b[0;34m=\u001b[0m \u001b[0;36m1\u001b[0m \u001b[0;34m-\u001b[0m \u001b[0mz_teammate\u001b[0m\u001b[0;34m\u001b[0m\u001b[0;34m\u001b[0m\u001b[0m\n\u001b[0m\u001b[1;32m     22\u001b[0m \u001b[0;34m\u001b[0m\u001b[0m\n\u001b[1;32m     23\u001b[0m             \u001b[0;32mif\u001b[0m \u001b[0mz_teammate\u001b[0m\u001b[0;34m[\u001b[0m\u001b[0;36m1\u001b[0m\u001b[0;34m]\u001b[0m\u001b[0;34m<\u001b[0m\u001b[0;36m0.5\u001b[0m\u001b[0;34m**\u001b[0m\u001b[0;34m(\u001b[0m\u001b[0mlen\u001b[0m\u001b[0;34m(\u001b[0m\u001b[0mteam_q\u001b[0m\u001b[0;34m)\u001b[0m\u001b[0;34m-\u001b[0m\u001b[0;36m1\u001b[0m\u001b[0;34m)\u001b[0m \u001b[0;32mand\u001b[0m \u001b[0mz\u001b[0m\u001b[0;34m[\u001b[0m\u001b[0mplayer\u001b[0m\u001b[0;34m]\u001b[0m\u001b[0;34m[\u001b[0m\u001b[0;36m1\u001b[0m\u001b[0;34m]\u001b[0m\u001b[0;34m<\u001b[0m\u001b[0;36m0.5\u001b[0m\u001b[0;34m:\u001b[0m\u001b[0;34m\u001b[0m\u001b[0;34m\u001b[0m\u001b[0m\n",
      "\u001b[0;31mKeyboardInterrupt\u001b[0m: "
     ]
    }
   ],
   "source": [
    "for iIter in range(5000):\n",
    "    old_logl = new_logl\n",
    "    z = main_e_step(Xs, pis, mus, sigmas, indices_question_by_team)\n",
    "    new_pis, new_mus, new_sigmas = m_step(Xs, z)\n",
    "    \n",
    "    pis, mus, sigmas = new_pis, new_mus, new_sigmas\n",
    "    new_logl = loglikelihood(Xs, pis, mus, sigmas)\n",
    "    \n",
    "    print(\"Логарифм правдоподобия на итерации %03d: %.6f\" % (iIter, new_logl) )\n",
    "    if np.abs(new_logl - old_logl) < 100:\n",
    "        break"
   ]
  },
  {
   "cell_type": "code",
   "execution_count": 164,
   "metadata": {},
   "outputs": [],
   "source": [
    "answer_pred_EM = np.argmax(z, axis=1)"
   ]
  },
  {
   "cell_type": "code",
   "execution_count": 166,
   "metadata": {},
   "outputs": [],
   "source": [
    "teams_results_train['answer_pred_EM'] = answer_pred_EM"
   ]
  },
  {
   "cell_type": "code",
   "execution_count": 167,
   "metadata": {
    "scrolled": false
   },
   "outputs": [],
   "source": [
    "true_position = pd.DataFrame(teams_results_train.groupby(['id_tournament', 'id_team'], sort=False)['position'].mean())\n",
    "true_position = true_position.sort_values(by=['id_tournament', 'id_team']).reset_index()"
   ]
  },
  {
   "cell_type": "code",
   "execution_count": 168,
   "metadata": {},
   "outputs": [],
   "source": [
    "pred_position = teams_results_train.groupby(['id_tournament', 'id_team', 'id_player'], sort=False)['answer', 'answer_pred_EM'].sum()\n",
    "pred_position = pred_position.reset_index()\n",
    "pred_position = pred_position.groupby(['id_tournament', 'id_team'], sort=False)['answer', 'answer_pred_EM'].agg(lambda x: x.quantile(0.75))\n",
    "pred_position = pred_position.reset_index()    \n",
    "pred_position = pred_position.sort_values(by=['id_tournament', 'answer_pred_EM'], ascending=False).reset_index()"
   ]
  },
  {
   "cell_type": "code",
   "execution_count": 169,
   "metadata": {},
   "outputs": [
    {
     "name": "stderr",
     "output_type": "stream",
     "text": [
      "100%|██████████| 672/672 [00:01<00:00, 462.89it/s]\n"
     ]
    }
   ],
   "source": [
    "for id_tournament in tqdm(pred_position.id_tournament.unique()):\n",
    "    answers_pred = pred_position.loc[pred_position.id_tournament==id_tournament, 'answer_pred_EM'].values\n",
    "    num_teams = len(answers_pred)\n",
    "    positions = [0]*num_teams\n",
    "    start_position = 1\n",
    "    while start_position<num_teams:\n",
    "        answers = answers_pred[start_position-1]\n",
    "        current_answers = answers_pred.tolist().count(answers)\n",
    "        if current_answers > 1:\n",
    "            current_pos = start_position + current_answers/2\n",
    "        else:\n",
    "            current_pos = start_position\n",
    "        for pos in range(current_answers):\n",
    "            positions[start_position+pos-1] = current_pos\n",
    "        start_position += current_answers\n",
    "        \n",
    "    pred_position.loc[pred_position.id_tournament==id_tournament, 'position_pred_EM'] = positions\n",
    "    "
   ]
  },
  {
   "cell_type": "code",
   "execution_count": 170,
   "metadata": {},
   "outputs": [],
   "source": [
    "pred_position = pred_position.sort_values(by=['id_tournament', 'id_team'])"
   ]
  },
  {
   "cell_type": "code",
   "execution_count": 171,
   "metadata": {},
   "outputs": [],
   "source": [
    "predict_positions_result = pd.merge(true_position, pred_position, on=['id_tournament','id_team'])\n",
    "predict_positions_result = predict_positions_result.reset_index()"
   ]
  },
  {
   "cell_type": "code",
   "execution_count": 172,
   "metadata": {},
   "outputs": [
    {
     "name": "stdout",
     "output_type": "stream",
     "text": [
      "Корреляция Спирмена: 0.819\n",
      "Корреляция Кендалла: 0.636\n"
     ]
    }
   ],
   "source": [
    "corr_spearman, _ = spearmanr(predict_positions_result['position'], predict_positions_result['position_pred_EM'])\n",
    "corr_kendall, _ = kendalltau(predict_positions_result['position'], predict_positions_result['position_pred_EM'])\n",
    "print('Корреляция Спирмена: %.3f' % corr_spearman)\n",
    "print('Корреляция Кендалла: %.3f' % corr_kendall)"
   ]
  },
  {
   "cell_type": "markdown",
   "metadata": {},
   "source": [
    "## EM алгоритм 2020"
   ]
  },
  {
   "cell_type": "code",
   "execution_count": 173,
   "metadata": {},
   "outputs": [],
   "source": [
    "columns = ['id_tournament', 'id_team', 'id_player', 'id_answer',\n",
    "            'flag_player', 'tournament_rate', 'team_rate', \n",
    "           'power_of_player', 'complexity_pred', 'answer']\n",
    "X = teams_results_test[columns]"
   ]
  },
  {
   "cell_type": "code",
   "execution_count": 174,
   "metadata": {},
   "outputs": [],
   "source": [
    "indices_question_by_team = list(X.groupby(['id_tournament', 'id_team', 'id_answer'], sort=False).indices.values())"
   ]
  },
  {
   "cell_type": "code",
   "execution_count": 175,
   "metadata": {},
   "outputs": [],
   "source": [
    "Xs = MinMaxScaler().fit_transform(X.iloc[:,4:-1].to_numpy())"
   ]
  },
  {
   "cell_type": "code",
   "execution_count": 217,
   "metadata": {},
   "outputs": [
    {
     "name": "stderr",
     "output_type": "stream",
     "text": [
      "100%|██████████| 871791/871791 [02:13<00:00, 6537.61it/s] \n"
     ]
    }
   ],
   "source": [
    "k = 2\n",
    "mus = Xs[np.random.choice(Xs.shape[0], size=k, replace=False), : ]\n",
    "sigmas = np.array( [ np.identity(Xs.shape[1]) for _ in range(k) ] )\n",
    "pis = (1./k) * np.ones(k)\n",
    "\n",
    "z = main_e_step(Xs, pis, mus, sigmas, indices_question_by_team)\n",
    "new_pis, new_mus, new_sigmas = m_step(Xs, z)"
   ]
  },
  {
   "cell_type": "code",
   "execution_count": 218,
   "metadata": {},
   "outputs": [
    {
     "data": {
      "text/plain": [
       "-21543225.58880319"
      ]
     },
     "execution_count": 218,
     "metadata": {},
     "output_type": "execute_result"
    }
   ],
   "source": [
    "new_logl = loglikelihood(Xs, pis, mus, sigmas)\n",
    "new_logl"
   ]
  },
  {
   "cell_type": "code",
   "execution_count": 219,
   "metadata": {
    "scrolled": true
   },
   "outputs": [
    {
     "name": "stderr",
     "output_type": "stream",
     "text": [
      "100%|██████████| 871791/871791 [02:14<00:00, 6491.85it/s] \n"
     ]
    },
    {
     "name": "stdout",
     "output_type": "stream",
     "text": [
      "Логарифм правдоподобия на итерации 000: 18508281.704922\n"
     ]
    },
    {
     "name": "stderr",
     "output_type": "stream",
     "text": [
      "100%|██████████| 871791/871791 [02:15<00:00, 6417.23it/s] \n"
     ]
    },
    {
     "name": "stdout",
     "output_type": "stream",
     "text": [
      "Логарифм правдоподобия на итерации 001: 19702189.579712\n"
     ]
    },
    {
     "name": "stderr",
     "output_type": "stream",
     "text": [
      "100%|██████████| 871791/871791 [02:15<00:00, 6435.24it/s] \n"
     ]
    },
    {
     "name": "stdout",
     "output_type": "stream",
     "text": [
      "Логарифм правдоподобия на итерации 002: 21114922.179577\n"
     ]
    },
    {
     "name": "stderr",
     "output_type": "stream",
     "text": [
      "100%|██████████| 871791/871791 [02:14<00:00, 6502.69it/s] \n"
     ]
    },
    {
     "name": "stdout",
     "output_type": "stream",
     "text": [
      "Логарифм правдоподобия на итерации 003: 21860305.109626\n"
     ]
    },
    {
     "name": "stderr",
     "output_type": "stream",
     "text": [
      "100%|██████████| 871791/871791 [02:12<00:00, 6589.86it/s] \n"
     ]
    },
    {
     "name": "stdout",
     "output_type": "stream",
     "text": [
      "Логарифм правдоподобия на итерации 004: 22146208.208725\n"
     ]
    },
    {
     "name": "stderr",
     "output_type": "stream",
     "text": [
      "100%|██████████| 871791/871791 [02:12<00:00, 6585.77it/s] \n"
     ]
    },
    {
     "name": "stdout",
     "output_type": "stream",
     "text": [
      "Логарифм правдоподобия на итерации 005: 22313866.568100\n"
     ]
    },
    {
     "name": "stderr",
     "output_type": "stream",
     "text": [
      "100%|██████████| 871791/871791 [02:11<00:00, 6647.00it/s] \n"
     ]
    },
    {
     "name": "stdout",
     "output_type": "stream",
     "text": [
      "Логарифм правдоподобия на итерации 006: 22405671.517036\n"
     ]
    },
    {
     "name": "stderr",
     "output_type": "stream",
     "text": [
      "100%|██████████| 871791/871791 [02:12<00:00, 6575.92it/s] \n"
     ]
    },
    {
     "name": "stdout",
     "output_type": "stream",
     "text": [
      "Логарифм правдоподобия на итерации 007: 22472237.120382\n"
     ]
    },
    {
     "name": "stderr",
     "output_type": "stream",
     "text": [
      "100%|██████████| 871791/871791 [02:10<00:00, 6682.28it/s] \n"
     ]
    },
    {
     "name": "stdout",
     "output_type": "stream",
     "text": [
      "Логарифм правдоподобия на итерации 008: 22511843.588132\n"
     ]
    },
    {
     "name": "stderr",
     "output_type": "stream",
     "text": [
      "100%|██████████| 871791/871791 [02:10<00:00, 6677.77it/s] \n"
     ]
    },
    {
     "name": "stdout",
     "output_type": "stream",
     "text": [
      "Логарифм правдоподобия на итерации 009: 22547065.180859\n"
     ]
    },
    {
     "name": "stderr",
     "output_type": "stream",
     "text": [
      "100%|██████████| 871791/871791 [02:10<00:00, 6693.92it/s] \n"
     ]
    },
    {
     "name": "stdout",
     "output_type": "stream",
     "text": [
      "Логарифм правдоподобия на итерации 010: 22572982.060907\n"
     ]
    },
    {
     "name": "stderr",
     "output_type": "stream",
     "text": [
      "100%|██████████| 871791/871791 [02:11<00:00, 6629.27it/s] \n"
     ]
    },
    {
     "name": "stdout",
     "output_type": "stream",
     "text": [
      "Логарифм правдоподобия на итерации 011: 22604583.853067\n"
     ]
    },
    {
     "name": "stderr",
     "output_type": "stream",
     "text": [
      "100%|██████████| 871791/871791 [02:10<00:00, 6682.49it/s] \n"
     ]
    },
    {
     "name": "stdout",
     "output_type": "stream",
     "text": [
      "Логарифм правдоподобия на итерации 012: 22647010.375765\n"
     ]
    },
    {
     "name": "stderr",
     "output_type": "stream",
     "text": [
      "100%|██████████| 871791/871791 [02:10<00:00, 6666.00it/s] \n"
     ]
    },
    {
     "name": "stdout",
     "output_type": "stream",
     "text": [
      "Логарифм правдоподобия на итерации 013: 22800183.866796\n"
     ]
    },
    {
     "name": "stderr",
     "output_type": "stream",
     "text": [
      "100%|██████████| 871791/871791 [02:11<00:00, 6628.73it/s] \n"
     ]
    },
    {
     "name": "stdout",
     "output_type": "stream",
     "text": [
      "Логарифм правдоподобия на итерации 014: 23551358.805856\n"
     ]
    },
    {
     "name": "stderr",
     "output_type": "stream",
     "text": [
      "100%|██████████| 871791/871791 [02:08<00:00, 6808.18it/s] \n"
     ]
    },
    {
     "name": "stdout",
     "output_type": "stream",
     "text": [
      "Логарифм правдоподобия на итерации 015: 29177822.807212\n"
     ]
    }
   ],
   "source": [
    "for iIter in range(5000):\n",
    "    try:\n",
    "        old_logl = new_logl\n",
    "        z = main_e_step(Xs, pis, mus, sigmas, indices_question_by_team, allow_singular=True)\n",
    "        new_pis, new_mus, new_sigmas = m_step(Xs, z)\n",
    "\n",
    "        pis, mus, sigmas = new_pis, new_mus, new_sigmas\n",
    "        new_logl = loglikelihood(Xs, pis, mus, sigmas, allow_singular=True)\n",
    "\n",
    "        print(\"Логарифм правдоподобия на итерации %03d: %.6f\" % (iIter, new_logl) )\n",
    "        if np.abs(new_logl - old_logl) < 50 or new_logl > 27000000:\n",
    "            break\n",
    "    except np.linalg.LinAlgError:\n",
    "        print('Обнаружена сингулярная матрица.')\n",
    "        break"
   ]
  },
  {
   "cell_type": "code",
   "execution_count": 220,
   "metadata": {},
   "outputs": [],
   "source": [
    "answer_pred_EM = np.argmax(z, axis=1)"
   ]
  },
  {
   "cell_type": "code",
   "execution_count": 221,
   "metadata": {},
   "outputs": [],
   "source": [
    "teams_results_test['answer_pred_EM'] = answer_pred_EM"
   ]
  },
  {
   "cell_type": "code",
   "execution_count": 222,
   "metadata": {
    "scrolled": false
   },
   "outputs": [],
   "source": [
    "true_position_test = pd.DataFrame(teams_results_test.groupby(['id_tournament', 'id_team'], sort=False)['position'].mean())\n",
    "true_position_test = true_position_test.sort_values(by=['id_tournament', 'id_team']).reset_index()"
   ]
  },
  {
   "cell_type": "code",
   "execution_count": 223,
   "metadata": {},
   "outputs": [],
   "source": [
    "pred_position_test = teams_results_test.groupby(['id_tournament', 'id_team', 'id_player'], sort=False)['answer', 'answer_pred_EM'].sum()\n",
    "pred_position_test = pred_position_test.reset_index()\n",
    "pred_position_test = pred_position_test.groupby(['id_tournament', 'id_team'], sort=False)['answer', 'answer_pred_EM'].agg(lambda x: x.quantile(0.75))\n",
    "pred_position_test = pred_position_test.reset_index()    \n",
    "pred_position_test = pred_position_test.sort_values(by=['id_tournament', 'answer_pred_EM'], ascending=False).reset_index()"
   ]
  },
  {
   "cell_type": "code",
   "execution_count": 224,
   "metadata": {},
   "outputs": [
    {
     "name": "stderr",
     "output_type": "stream",
     "text": [
      "100%|██████████| 173/173 [00:00<00:00, 558.90it/s]\n"
     ]
    }
   ],
   "source": [
    "for id_tournament in tqdm(pred_position_test.id_tournament.unique()):\n",
    "    answers_pred = pred_position_test.loc[pred_position_test.id_tournament==id_tournament, 'answer_pred_EM'].values\n",
    "    num_teams = len(answers_pred)\n",
    "    positions = [0]*num_teams\n",
    "    start_position = 1\n",
    "    while start_position<num_teams:\n",
    "        answers = answers_pred[start_position-1]\n",
    "        current_answers = answers_pred.tolist().count(answers)\n",
    "        if current_answers > 1:\n",
    "            current_pos = start_position + current_answers/2\n",
    "        else:\n",
    "            current_pos = start_position\n",
    "        for pos in range(current_answers):\n",
    "            positions[start_position+pos-1] = current_pos\n",
    "        start_position += current_answers\n",
    "        \n",
    "    pred_position_test.loc[pred_position_test.id_tournament==id_tournament, 'position_pred_EM'] = positions\n",
    "    "
   ]
  },
  {
   "cell_type": "code",
   "execution_count": 225,
   "metadata": {},
   "outputs": [],
   "source": [
    "pred_position_test = pred_position_test.sort_values(by=['id_tournament', 'id_team'])"
   ]
  },
  {
   "cell_type": "code",
   "execution_count": 226,
   "metadata": {},
   "outputs": [],
   "source": [
    "predict_positions_result_test = pd.merge(true_position_test, pred_position_test, on=['id_tournament','id_team'])\n",
    "predict_positions_result_test = predict_positions_result_test.reset_index()"
   ]
  },
  {
   "cell_type": "code",
   "execution_count": 227,
   "metadata": {},
   "outputs": [
    {
     "name": "stdout",
     "output_type": "stream",
     "text": [
      "Корреляция Спирмена: 0.779\n",
      "Корреляция Кендалла: 0.595\n"
     ]
    }
   ],
   "source": [
    "corr_spearman, _ = spearmanr(predict_positions_result_test['position'], predict_positions_result_test['position_pred_EM'])\n",
    "corr_kendall, _ = kendalltau(predict_positions_result_test['position'], predict_positions_result_test['position_pred_EM'])\n",
    "print('Корреляция Спирмена: %.3f' % corr_spearman)\n",
    "print('Корреляция Кендалла: %.3f' % corr_kendall)"
   ]
  },
  {
   "cell_type": "markdown",
   "metadata": {},
   "source": [
    "<a class=\"anchor\" id=\"em2\"></a>\n",
    "[К оглавлению](#toc)\\\n",
    "[2. EM Алгоритм](#em)\n",
    "\n",
    "# 3. EM алгоритм v.2 \n",
    "\n",
    "Во второй версии алгоритма я решил не проходить итеративно данные за 2020 год, а применить полученные после прохода на данных 2019 года $\\pi, \\mu, \\sigma$ к нахождению матожидания $z$, при этому алгоритм изменился в месте подсчета зависимости сокомандников на игрока: если команда ответила неверно(данные answer из датасета), то для этого игрока мы не пересчитываем вероятности, а сразу записываем ему 1 в поле $z[0]$.\\\n",
    "__Результаты ЕМ алгоритма v.2:__\\\n",
    "___2019 год:___\\\n",
    "__Корреляция Спирмена: 0.829\\\n",
    "Корреляция Кендалла: 0.654__\\\n",
    "___2020 год:___\\\n",
    "__Корреляция Спирмена: 0.780\\\n",
    "Корреляция Кендалла: 0.605__\n",
    "\n",
    "[К оглавлению](#toc)\\\n",
    "[4. Выводы](#conclusions)"
   ]
  },
  {
   "cell_type": "markdown",
   "metadata": {},
   "source": [
    "## EM алгоритм v.2 2019"
   ]
  },
  {
   "cell_type": "code",
   "execution_count": 4,
   "metadata": {},
   "outputs": [],
   "source": [
    "columns = ['id_tournament', 'id_team', 'id_player', 'id_answer',\n",
    "            'flag_player', 'tournament_rate', 'team_rate', \n",
    "           'power_of_player', 'complexity_pred', 'answer']\n",
    "X = teams_results_train[columns]"
   ]
  },
  {
   "cell_type": "code",
   "execution_count": 5,
   "metadata": {},
   "outputs": [],
   "source": [
    "indices_question_by_team = list(X.groupby(['id_tournament', 'id_team', 'id_answer'], sort=False).indices.values())"
   ]
  },
  {
   "cell_type": "code",
   "execution_count": 6,
   "metadata": {},
   "outputs": [],
   "source": [
    "Xs = MinMaxScaler().fit_transform(X.iloc[:,4:-1].to_numpy())"
   ]
  },
  {
   "cell_type": "code",
   "execution_count": 7,
   "metadata": {},
   "outputs": [],
   "source": [
    "true_answers = X['answer'].values"
   ]
  },
  {
   "cell_type": "code",
   "execution_count": 13,
   "metadata": {},
   "outputs": [],
   "source": [
    "def main_e_step(Xs, pis, mus, sigmas, indices, true_answers, allow_singular=False):\n",
    "    k = mus.shape[0]\n",
    "    z = np.array([pis[i] * sp.stats.multivariate_normal.pdf(Xs, mean=mus[i], cov=sigmas[i], allow_singular=allow_singular) for i in range(k) ])   \n",
    "    z = np.divide(z, np.sum(z, axis=0)).T\n",
    "    z_dependent = np.array([[None, None] for _ in range(Xs.shape[0])])\n",
    "    \n",
    "    for team_q in tqdm(indices):\n",
    "        for player in team_q:\n",
    "            teammate = [_id for _id in team_q if _id != player]\n",
    "            z_teammate = z[teammate]\n",
    "            z_teammate = 1 - z_teammate\n",
    "            z_teammate = np.prod(z_teammate, axis=0)\n",
    "            z_teammate = 1 - z_teammate\n",
    "            \n",
    "            if true_answers[player]==0:\n",
    "                z_dependent_player = [1, 0]\n",
    "            elif z_teammate[1]<0.5**(len(team_q)-1) or z_teammate[0]<0.5**(len(team_q)-1):\n",
    "                z_dependent_player = z[player]\n",
    "            else:\n",
    "                z_dependent_player = np.divide(z[player], z_teammate)\n",
    "            z_dependent[player] = z_dependent_player\n",
    "    z_dependent = np.divide(z_dependent, np.sum(z_dependent, axis=1)[:,np.newaxis])\n",
    "    return z_dependent\n",
    "\n",
    "def m_step(xs, z):\n",
    "    k = z.shape[1]\n",
    "    pis = np.sum(z, axis=0) / np.sum(z)\n",
    "    mus = np.array([np.average(xs, weights=z[:,i], axis=0) for i in range(k)])\n",
    "    sigmas = np.array([np.cov(xs.T, aweights=z[:,i]) for i in range(k)])\n",
    "    return pis, mus, sigmas\n",
    "\n",
    "def loglikelihood(xs, pis, mus, sigmas, allow_singular=False):\n",
    "    k = mus.shape[0]\n",
    "    return np.sum(np.log(np.sum(np.array([ pis[i] * sp.stats.multivariate_normal.pdf(xs, mean=mus[i], cov=sigmas[i], allow_singular=allow_singular) for i in range(k) ]), axis=0)))"
   ]
  },
  {
   "cell_type": "code",
   "execution_count": 14,
   "metadata": {},
   "outputs": [
    {
     "name": "stderr",
     "output_type": "stream",
     "text": [
      "100%|██████████| 3789178/3789178 [10:54<00:00, 5788.42it/s] \n"
     ]
    }
   ],
   "source": [
    "k = 2\n",
    "mus = Xs[np.random.choice(Xs.shape[0], size=k, replace=False), : ]\n",
    "sigmas = np.array( [ np.identity(Xs.shape[1]) for _ in range(k) ] )\n",
    "pis = (1./k) * np.ones(k)\n",
    "\n",
    "z = main_e_step(Xs, pis, mus, sigmas, indices_question_by_team, true_answers)\n",
    "new_pis, new_mus, new_sigmas = m_step(Xs, z)"
   ]
  },
  {
   "cell_type": "code",
   "execution_count": 15,
   "metadata": {},
   "outputs": [
    {
     "data": {
      "text/plain": [
       "-98642673.9592195"
      ]
     },
     "execution_count": 15,
     "metadata": {},
     "output_type": "execute_result"
    }
   ],
   "source": [
    "new_logl = loglikelihood(Xs, pis, mus, sigmas)\n",
    "new_logl"
   ]
  },
  {
   "cell_type": "code",
   "execution_count": 16,
   "metadata": {
    "scrolled": true
   },
   "outputs": [
    {
     "name": "stderr",
     "output_type": "stream",
     "text": [
      "100%|██████████| 3789178/3789178 [10:57<00:00, 5765.23it/s] \n"
     ]
    },
    {
     "name": "stdout",
     "output_type": "stream",
     "text": [
      "Логарифм правдоподобия на итерации 000: 91994522.310956\n"
     ]
    },
    {
     "name": "stderr",
     "output_type": "stream",
     "text": [
      "100%|██████████| 3789178/3789178 [11:00<00:00, 5738.56it/s] \n"
     ]
    },
    {
     "name": "stdout",
     "output_type": "stream",
     "text": [
      "Логарифм правдоподобия на итерации 001: 96660070.297602\n"
     ]
    },
    {
     "name": "stderr",
     "output_type": "stream",
     "text": [
      "100%|██████████| 3789178/3789178 [10:57<00:00, 5762.24it/s] \n"
     ]
    },
    {
     "name": "stdout",
     "output_type": "stream",
     "text": [
      "Логарифм правдоподобия на итерации 002: 98794350.454876\n"
     ]
    },
    {
     "name": "stderr",
     "output_type": "stream",
     "text": [
      "100%|██████████| 3789178/3789178 [10:58<00:00, 5754.20it/s] \n"
     ]
    },
    {
     "name": "stdout",
     "output_type": "stream",
     "text": [
      "Логарифм правдоподобия на итерации 003: 99357240.168646\n"
     ]
    },
    {
     "name": "stderr",
     "output_type": "stream",
     "text": [
      "100%|██████████| 3789178/3789178 [10:53<00:00, 5798.74it/s] \n"
     ]
    },
    {
     "name": "stdout",
     "output_type": "stream",
     "text": [
      "Логарифм правдоподобия на итерации 004: 99479785.211338\n"
     ]
    },
    {
     "name": "stderr",
     "output_type": "stream",
     "text": [
      "100%|██████████| 3789178/3789178 [11:01<00:00, 5726.61it/s] \n"
     ]
    },
    {
     "name": "stdout",
     "output_type": "stream",
     "text": [
      "Логарифм правдоподобия на итерации 005: 99491338.413850\n"
     ]
    },
    {
     "name": "stderr",
     "output_type": "stream",
     "text": [
      "100%|██████████| 3789178/3789178 [11:03<00:00, 5707.61it/s] \n"
     ]
    },
    {
     "name": "stdout",
     "output_type": "stream",
     "text": [
      "Логарифм правдоподобия на итерации 006: 99494581.787112\n"
     ]
    },
    {
     "name": "stderr",
     "output_type": "stream",
     "text": [
      "100%|██████████| 3789178/3789178 [11:08<00:00, 5669.97it/s] \n"
     ]
    },
    {
     "name": "stdout",
     "output_type": "stream",
     "text": [
      "Логарифм правдоподобия на итерации 007: 99491923.434784\n"
     ]
    },
    {
     "name": "stderr",
     "output_type": "stream",
     "text": [
      "100%|██████████| 3789178/3789178 [10:41<00:00, 5905.67it/s] \n"
     ]
    },
    {
     "name": "stdout",
     "output_type": "stream",
     "text": [
      "Логарифм правдоподобия на итерации 008: 99485827.244941\n"
     ]
    },
    {
     "name": "stderr",
     "output_type": "stream",
     "text": [
      "100%|██████████| 3789178/3789178 [10:56<00:00, 5769.57it/s] \n"
     ]
    },
    {
     "name": "stdout",
     "output_type": "stream",
     "text": [
      "Логарифм правдоподобия на итерации 009: 99480566.225278\n"
     ]
    },
    {
     "name": "stderr",
     "output_type": "stream",
     "text": [
      "100%|██████████| 3789178/3789178 [11:06<00:00, 5681.98it/s] \n"
     ]
    },
    {
     "name": "stdout",
     "output_type": "stream",
     "text": [
      "Логарифм правдоподобия на итерации 010: 99474977.901664\n"
     ]
    },
    {
     "name": "stderr",
     "output_type": "stream",
     "text": [
      "100%|██████████| 3789178/3789178 [10:48<00:00, 5846.14it/s] \n"
     ]
    },
    {
     "name": "stdout",
     "output_type": "stream",
     "text": [
      "Логарифм правдоподобия на итерации 011: 99470904.918814\n"
     ]
    },
    {
     "name": "stderr",
     "output_type": "stream",
     "text": [
      "100%|██████████| 3789178/3789178 [10:54<00:00, 5787.43it/s] \n"
     ]
    },
    {
     "name": "stdout",
     "output_type": "stream",
     "text": [
      "Логарифм правдоподобия на итерации 012: 99466883.222278\n"
     ]
    },
    {
     "name": "stderr",
     "output_type": "stream",
     "text": [
      "100%|██████████| 3789178/3789178 [10:43<00:00, 5890.97it/s] \n"
     ]
    },
    {
     "name": "stdout",
     "output_type": "stream",
     "text": [
      "Логарифм правдоподобия на итерации 013: 99464414.127000\n"
     ]
    },
    {
     "name": "stderr",
     "output_type": "stream",
     "text": [
      "100%|██████████| 3789178/3789178 [11:10<00:00, 5655.46it/s] \n"
     ]
    },
    {
     "name": "stdout",
     "output_type": "stream",
     "text": [
      "Логарифм правдоподобия на итерации 014: 99462924.294814\n"
     ]
    },
    {
     "name": "stderr",
     "output_type": "stream",
     "text": [
      "100%|██████████| 3789178/3789178 [11:12<00:00, 5634.04it/s] \n"
     ]
    },
    {
     "name": "stdout",
     "output_type": "stream",
     "text": [
      "Логарифм правдоподобия на итерации 015: 99462208.738090\n"
     ]
    },
    {
     "name": "stderr",
     "output_type": "stream",
     "text": [
      "100%|██████████| 3789178/3789178 [11:08<00:00, 5669.80it/s] \n"
     ]
    },
    {
     "name": "stdout",
     "output_type": "stream",
     "text": [
      "Логарифм правдоподобия на итерации 016: 99461746.610621\n"
     ]
    },
    {
     "name": "stderr",
     "output_type": "stream",
     "text": [
      "100%|██████████| 3789178/3789178 [11:04<00:00, 5699.86it/s] \n"
     ]
    },
    {
     "name": "stdout",
     "output_type": "stream",
     "text": [
      "Логарифм правдоподобия на итерации 017: 99461514.108920\n"
     ]
    },
    {
     "name": "stderr",
     "output_type": "stream",
     "text": [
      "100%|██████████| 3789178/3789178 [10:53<00:00, 5795.62it/s] \n"
     ]
    },
    {
     "name": "stdout",
     "output_type": "stream",
     "text": [
      "Логарифм правдоподобия на итерации 018: 99461323.050407\n"
     ]
    },
    {
     "name": "stderr",
     "output_type": "stream",
     "text": [
      "100%|██████████| 3789178/3789178 [10:52<00:00, 5809.96it/s] \n"
     ]
    },
    {
     "name": "stdout",
     "output_type": "stream",
     "text": [
      "Логарифм правдоподобия на итерации 019: 99461296.816228\n"
     ]
    }
   ],
   "source": [
    "for iIter in range(5000):\n",
    "    old_logl = new_logl\n",
    "    z = main_e_step(Xs, pis, mus, sigmas, indices_question_by_team, true_answers)\n",
    "    new_pis, new_mus, new_sigmas = m_step(Xs, z)\n",
    "    \n",
    "    pis, mus, sigmas = new_pis, new_mus, new_sigmas\n",
    "    new_logl = loglikelihood(Xs, pis, mus, sigmas)\n",
    "    \n",
    "    print(\"Логарифм правдоподобия на итерации %03d: %.6f\" % (iIter, new_logl) )\n",
    "    if np.abs(new_logl - old_logl) < 100:\n",
    "        break"
   ]
  },
  {
   "cell_type": "code",
   "execution_count": 17,
   "metadata": {},
   "outputs": [],
   "source": [
    "answer_pred_EM_2 = np.argmax(z, axis=1)"
   ]
  },
  {
   "cell_type": "code",
   "execution_count": 18,
   "metadata": {},
   "outputs": [],
   "source": [
    "teams_results_train['answer_pred_EM_2'] = answer_pred_EM_2"
   ]
  },
  {
   "cell_type": "code",
   "execution_count": 19,
   "metadata": {
    "scrolled": false
   },
   "outputs": [],
   "source": [
    "true_position = pd.DataFrame(teams_results_train.groupby(['id_tournament', 'id_team'], sort=False)['position'].mean())\n",
    "true_position = true_position.sort_values(by=['id_tournament', 'id_team']).reset_index()"
   ]
  },
  {
   "cell_type": "code",
   "execution_count": 20,
   "metadata": {},
   "outputs": [],
   "source": [
    "pred_position = teams_results_train.groupby(['id_tournament', 'id_team', 'id_player'], sort=False)['answer', 'answer_pred_EM_2'].sum()\n",
    "pred_position = pred_position.reset_index()\n",
    "pred_position = pred_position.groupby(['id_tournament', 'id_team'], sort=False)['answer', 'answer_pred_EM_2'].agg(lambda x: x.quantile(0.75))\n",
    "pred_position = pred_position.reset_index()    \n",
    "pred_position = pred_position.sort_values(by=['id_tournament', 'answer_pred_EM_2'], ascending=False).reset_index()"
   ]
  },
  {
   "cell_type": "code",
   "execution_count": 21,
   "metadata": {},
   "outputs": [
    {
     "name": "stderr",
     "output_type": "stream",
     "text": [
      "100%|██████████| 672/672 [00:01<00:00, 354.11it/s]\n"
     ]
    }
   ],
   "source": [
    "for id_tournament in tqdm(pred_position.id_tournament.unique()):\n",
    "    answers_pred = pred_position.loc[pred_position.id_tournament==id_tournament, 'answer_pred_EM_2'].values\n",
    "    num_teams = len(answers_pred)\n",
    "    positions = [0]*num_teams\n",
    "    start_position = 1\n",
    "    while start_position<num_teams:\n",
    "        answers = answers_pred[start_position-1]\n",
    "        current_answers = answers_pred.tolist().count(answers)\n",
    "        if current_answers > 1:\n",
    "            current_pos = start_position + current_answers/2\n",
    "        else:\n",
    "            current_pos = start_position\n",
    "        for pos in range(current_answers):\n",
    "            positions[start_position+pos-1] = current_pos\n",
    "        start_position += current_answers\n",
    "        \n",
    "    pred_position.loc[pred_position.id_tournament==id_tournament, 'position_pred_EM_2'] = positions\n",
    "    "
   ]
  },
  {
   "cell_type": "code",
   "execution_count": 22,
   "metadata": {},
   "outputs": [],
   "source": [
    "pred_position = pred_position.sort_values(by=['id_tournament', 'id_team'])"
   ]
  },
  {
   "cell_type": "code",
   "execution_count": 23,
   "metadata": {},
   "outputs": [],
   "source": [
    "predict_positions_result = pd.merge(true_position, pred_position, on=['id_tournament','id_team'])\n",
    "predict_positions_result = predict_positions_result.reset_index()"
   ]
  },
  {
   "cell_type": "code",
   "execution_count": 24,
   "metadata": {},
   "outputs": [
    {
     "name": "stdout",
     "output_type": "stream",
     "text": [
      "Корреляция Спирмена: 0.829\n",
      "Корреляция Кендалла: 0.654\n"
     ]
    }
   ],
   "source": [
    "corr_spearman, _ = spearmanr(predict_positions_result['position'], predict_positions_result['position_pred_EM_2'])\n",
    "corr_kendall, _ = kendalltau(predict_positions_result['position'], predict_positions_result['position_pred_EM_2'])\n",
    "print('Корреляция Спирмена: %.3f' % corr_spearman)\n",
    "print('Корреляция Кендалла: %.3f' % corr_kendall)"
   ]
  },
  {
   "cell_type": "markdown",
   "metadata": {},
   "source": [
    "## EM алгоритм v.2 2020"
   ]
  },
  {
   "cell_type": "code",
   "execution_count": 25,
   "metadata": {},
   "outputs": [],
   "source": [
    "columns = ['id_tournament', 'id_team', 'id_player', 'id_answer',\n",
    "            'flag_player', 'tournament_rate', 'team_rate', \n",
    "           'power_of_player', 'complexity_pred', 'answer']\n",
    "X = teams_results_test[columns]"
   ]
  },
  {
   "cell_type": "code",
   "execution_count": 40,
   "metadata": {},
   "outputs": [],
   "source": [
    "Xs = MinMaxScaler().fit_transform(X.iloc[:,4:-1].to_numpy())"
   ]
  },
  {
   "cell_type": "code",
   "execution_count": 32,
   "metadata": {},
   "outputs": [],
   "source": [
    "indices_question_by_team = list(X.groupby(['id_tournament', 'id_team', 'id_answer'], sort=False).indices.values())"
   ]
  },
  {
   "cell_type": "code",
   "execution_count": 41,
   "metadata": {},
   "outputs": [],
   "source": [
    "def main_e_step(Xs, pis, mus, sigmas, indices, allow_singular=False):\n",
    "    k = mus.shape[0]\n",
    "    z = np.array([pis[i] * sp.stats.multivariate_normal.pdf(Xs, mean=mus[i], cov=sigmas[i], allow_singular=allow_singular) for i in range(k) ])   \n",
    "    z = np.divide(z, np.sum(z, axis=0)).T\n",
    "    z_dependent = np.array([[None, None] for _ in range(Xs.shape[0])])\n",
    "    \n",
    "    for team_q in tqdm(indices):\n",
    "        for player in team_q:\n",
    "            teammate = [_id for _id in team_q if _id != player]\n",
    "            z_teammate = z[teammate]\n",
    "            z_teammate = 1 - z_teammate\n",
    "            z_teammate = np.prod(z_teammate, axis=0)\n",
    "            z_teammate = 1 - z_teammate\n",
    "            \n",
    "            if z_teammate[1]<0.5**(len(team_q)-1) or z_teammate[0]<0.5**(len(team_q)-1):\n",
    "                z_dependent_player = z[player]\n",
    "            else:\n",
    "                z_dependent_player = np.divide(z[player], z_teammate)\n",
    "            z_dependent[player] = z_dependent_player\n",
    "    z_dependent = np.divide(z_dependent, np.sum(z_dependent, axis=1)[:,np.newaxis])\n",
    "    return z_dependent\n"
   ]
  },
  {
   "cell_type": "code",
   "execution_count": 42,
   "metadata": {},
   "outputs": [
    {
     "name": "stderr",
     "output_type": "stream",
     "text": [
      "100%|██████████| 871791/871791 [02:07<00:00, 6845.01it/s] \n"
     ]
    }
   ],
   "source": [
    "k = 2\n",
    "z = main_e_step(Xs, pis, mus, sigmas, indices_question_by_team)"
   ]
  },
  {
   "cell_type": "code",
   "execution_count": 43,
   "metadata": {},
   "outputs": [],
   "source": [
    "answer_pred_EM_2 = np.argmax(z, axis=1)"
   ]
  },
  {
   "cell_type": "code",
   "execution_count": 44,
   "metadata": {},
   "outputs": [],
   "source": [
    "teams_results_test['answer_pred_EM_2'] = answer_pred_EM_2"
   ]
  },
  {
   "cell_type": "code",
   "execution_count": 45,
   "metadata": {
    "scrolled": false
   },
   "outputs": [],
   "source": [
    "true_position_test = pd.DataFrame(teams_results_test.groupby(['id_tournament', 'id_team'], sort=False)['position'].mean())\n",
    "true_position_test = true_position_test.sort_values(by=['id_tournament', 'id_team']).reset_index()"
   ]
  },
  {
   "cell_type": "code",
   "execution_count": 46,
   "metadata": {},
   "outputs": [],
   "source": [
    "pred_position_test = teams_results_test.groupby(['id_tournament', 'id_team', 'id_player'], sort=False)['answer', 'answer_pred_EM_2'].sum()\n",
    "pred_position_test = pred_position_test.reset_index()\n",
    "pred_position_test = pred_position_test.groupby(['id_tournament', 'id_team'], sort=False)['answer', 'answer_pred_EM_2'].agg(lambda x: x.quantile(0.75))\n",
    "pred_position_test = pred_position_test.reset_index()    \n",
    "pred_position_test = pred_position_test.sort_values(by=['id_tournament', 'answer_pred_EM_2'], ascending=False).reset_index()"
   ]
  },
  {
   "cell_type": "code",
   "execution_count": 47,
   "metadata": {},
   "outputs": [
    {
     "name": "stderr",
     "output_type": "stream",
     "text": [
      "100%|██████████| 173/173 [00:00<00:00, 465.88it/s]\n"
     ]
    }
   ],
   "source": [
    "for id_tournament in tqdm(pred_position_test.id_tournament.unique()):\n",
    "    answers_pred = pred_position_test.loc[pred_position_test.id_tournament==id_tournament, 'answer_pred_EM_2'].values\n",
    "    num_teams = len(answers_pred)\n",
    "    positions = [0]*num_teams\n",
    "    start_position = 1\n",
    "    while start_position<num_teams:\n",
    "        answers = answers_pred[start_position-1]\n",
    "        current_answers = answers_pred.tolist().count(answers)\n",
    "        if current_answers > 1:\n",
    "            current_pos = start_position + current_answers/2\n",
    "        else:\n",
    "            current_pos = start_position\n",
    "        for pos in range(current_answers):\n",
    "            positions[start_position+pos-1] = current_pos\n",
    "        start_position += current_answers\n",
    "        \n",
    "    pred_position_test.loc[pred_position_test.id_tournament==id_tournament, 'position_pred_EM_2'] = positions\n",
    "    "
   ]
  },
  {
   "cell_type": "code",
   "execution_count": 48,
   "metadata": {},
   "outputs": [],
   "source": [
    "pred_position_test = pred_position_test.sort_values(by=['id_tournament', 'id_team'])"
   ]
  },
  {
   "cell_type": "code",
   "execution_count": 49,
   "metadata": {},
   "outputs": [],
   "source": [
    "predict_positions_result_test = pd.merge(true_position_test, pred_position_test, on=['id_tournament','id_team'])\n",
    "predict_positions_result_test = predict_positions_result_test.reset_index()"
   ]
  },
  {
   "cell_type": "code",
   "execution_count": 50,
   "metadata": {
    "scrolled": true
   },
   "outputs": [
    {
     "name": "stdout",
     "output_type": "stream",
     "text": [
      "Корреляция Спирмена: 0.780\n",
      "Корреляция Кендалла: 0.605\n"
     ]
    }
   ],
   "source": [
    "corr_spearman, _ = spearmanr(predict_positions_result_test['position'], predict_positions_result_test['position_pred_EM_2'])\n",
    "corr_kendall, _ = kendalltau(predict_positions_result_test['position'], predict_positions_result_test['position_pred_EM_2'])\n",
    "print('Корреляция Спирмена: %.3f' % corr_spearman)\n",
    "print('Корреляция Кендалла: %.3f' % corr_kendall)"
   ]
  },
  {
   "cell_type": "raw",
   "metadata": {},
   "source": [
    "teams_results_test.to_csv('2020_after_EM_test.csv', index=False)\n",
    "teams_results_train.to_csv('2019_after_EM_train.csv', index=False)"
   ]
  },
  {
   "cell_type": "markdown",
   "metadata": {},
   "source": [
    "[К оглавлению](#toc)\\\n",
    "[3. EM алгоритм v.2](#em2)\n",
    "\n",
    "# 4. Выводы. <a class=\"anchor\" id=\"conclusions\"></a>\n",
    "Домашняя работа очень понравилась. Сдаю позже, так как в предпоследний день еще в ноутбуке без какого либо оформления и записей мыслей, меня посетила светлая идея, не оправдавшая себя, так что ее тут нет.\\\n",
    "Большую часть времени в этом ДЗ я уделил BaseLine модели, как ни странно. Возможно, если бы я смог уделить ДЗ больше времени, и дотюнил бы модель ЕМ алгоритма, ее результаты были бы выше базовой. Но по факту заданные метрики качества оказались выше именно у базовой модели.\n",
    "\n",
    "[К оглавлению](#toc)"
   ]
  }
 ],
 "metadata": {
  "celltoolbar": "Отсутствует",
  "kernelspec": {
   "display_name": "Python 3",
   "language": "python",
   "name": "python3"
  },
  "language_info": {
   "codemirror_mode": {
    "name": "ipython",
    "version": 3
   },
   "file_extension": ".py",
   "mimetype": "text/x-python",
   "name": "python",
   "nbconvert_exporter": "python",
   "pygments_lexer": "ipython3",
   "version": "3.8.5"
  }
 },
 "nbformat": 4,
 "nbformat_minor": 4
}
