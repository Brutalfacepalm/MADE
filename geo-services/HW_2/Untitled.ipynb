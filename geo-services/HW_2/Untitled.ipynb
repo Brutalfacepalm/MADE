{
 "cells": [
  {
   "cell_type": "code",
   "execution_count": 63,
   "metadata": {},
   "outputs": [
    {
     "name": "stdout",
     "output_type": "stream",
     "text": [
      "[nominatim] downloading data: Saratov, Russia\n"
     ]
    }
   ],
   "source": [
    "from OSMPythonTools.nominatim import Nominatim\n",
    "nomintaim = Nominatim()\n",
    "# areaId_Paris = nomintaim.query('Paris, France').areaId()\n",
    "# areaId_Rome = nomintaim.query('Rome, Italia').areaId()\n",
    "# areaId_Berlin = nomintaim.query('Berlin, Germany').areaId()\n",
    "# areaId_London = nomintaim.query('London, England').areaId()\n",
    "# areaId_Madrid = nomintaim.query('Madrid, Spain').areaId()\n",
    "# areaId_Viena = nomintaim.query('Viena, Austria').areaId()\n",
    "\n",
    "areaId_Saratov = nomintaim.query('Saratov, Russia').areaId()"
   ]
  },
  {
   "cell_type": "code",
   "execution_count": 100,
   "metadata": {
    "scrolled": true
   },
   "outputs": [
    {
     "name": "stdout",
     "output_type": "stream",
     "text": [
      "[overpass] downloading data: [timeout:25][date:\"2020-22-10T00:00:00Z\"][out:json];area(3602555133)->.searchArea;(node[\"amenity\"=\"beergarden\"](area.searchArea);); out count;\n"
     ]
    }
   ],
   "source": [
    "from OSMPythonTools.overpass import overpassQueryBuilder, Overpass\n",
    "overpass = Overpass()\n",
    "# query_paris = overpassQueryBuilder(area=areaId_Paris, elementType='node', selector='\"natural\"=\"tree\"', out='count')\n",
    "# paris = overpass.query(query_paris)\n",
    "\n",
    "# query_rome = overpassQueryBuilder(area=areaId_Rome, elementType='node', selector='\"natural\"=\"tree\"', out='count')\n",
    "# rome = overpass.query(query_rome)\n",
    "\n",
    "# query_berlin = overpassQueryBuilder(area=areaId_Berlin, elementType='node', selector='\"amenity\"=\"biergarten\"', out='count')\n",
    "# berlin = overpass.query(query_berlin, date = '2020-22-10T00:00:00Z')\n",
    "\n",
    "# query_london = overpassQueryBuilder(area=areaId_London, elementType='node', selector='\"amenity\"=\"biergarten\"', out='count')\n",
    "# london = overpass.query(query_london, date = '2020-22-10T00:00:00Z')\n",
    "\n",
    "# query_madrid = overpassQueryBuilder(area=areaId_Madrid, elementType='node', selector='\"natural\"=\"tree\"', out='count')\n",
    "# madrid = overpass.query(query_madrid)\n",
    "\n",
    "# query_viena = overpassQueryBuilder(area=areaId_Viena, elementType='node', selector='\"natural\"=\"tree\"', out='count')\n",
    "# viena = overpass.query(query_viena, date = '2020-22-10T00:00:00Z')\n",
    "\n",
    "# query_viena_wood = overpassQueryBuilder(area=areaId_Viena, elementType='node', selector='\"natural\"=\"wood\"', out='count')\n",
    "# viena_wood = overpass.query(query_viena_wood, date = '2020-22-10T00:00:00Z')\n",
    "\n",
    "query_moscow = overpassQueryBuilder(area=areaId_Moscow, elementType='node', selector='\"amenity\"=\"beergarden\"', out='count')\n",
    "moscow = overpass.query(query_moscow, date = '2020-22-10T00:00:00Z')\n",
    "\n",
    "# query_saratov = overpassQueryBuilder(area=areaId_Saratov, elementType='node', selector='\"natural\"=\"tree\"', out='count')\n",
    "# saratov = overpass.query(query_saratov, date = '2020-22-10T00:00:00Z')\n",
    "\n",
    "# query_saratov_wood = overpassQueryBuilder(area=areaId_Saratov, elementType='node', selector='\"natural\"=\"wood\"', out='count')\n",
    "# saratov_wood = overpass.query(query_saratov_wood, date = '2020-22-10T00:00:00Z')"
   ]
  },
  {
   "cell_type": "code",
   "execution_count": 101,
   "metadata": {
    "scrolled": true
   },
   "outputs": [
    {
     "name": "stdout",
     "output_type": "stream",
     "text": [
      "[overpass] downloading data: [timeout:25][date:\"2015-01-01T00:00:00Z\"][out:json];area(3602555133)->.searchArea;(node[\"amenity\"=\"beergarden\"](area.searchArea);); out count;\n"
     ]
    }
   ],
   "source": [
    "# paris_past = overpass.query(query_paris, date = '2015-01-01T00:00:00Z', timeout=60)\n",
    "# rome_past = overpass.query(query_rome, date = '2015-01-01T00:00:00Z', timeout=60)\n",
    "# berlin_past = overpass.query(query_berlin, date = '2015-01-01T00:00:00Z')\n",
    "# london_past = overpass.query(query_london, date = '2015-01-01T00:00:00Z')\n",
    "# madrid_past = overpass.query(query_madrid, date = '2015-01-01T00:00:00Z')\n",
    "# viena_past = overpass.query(query_viena, date = '2015-01-01T00:00:00Z')\n",
    "moscow_past = overpass.query(query_moscow, date = '2015-01-01T00:00:00Z')\n",
    "# saratov_past = overpass.query(query_saratov, date = '2015-01-01T00:00:00Z')\n",
    "\n",
    "# viena_past_wood = overpass.query(query_viena_wood, date = '2015-01-01T00:00:00Z')\n",
    "# saratov_past_wood = overpass.query(query_saratov_wood, date = '2015-01-01T00:00:00Z')"
   ]
  },
  {
   "cell_type": "code",
   "execution_count": 102,
   "metadata": {},
   "outputs": [
    {
     "name": "stdout",
     "output_type": "stream",
     "text": [
      "City         : 2015-01-01 : 2020-22-10\n",
      "Berlin       : 58         : 54        \n",
      "Moscow       : 0          : 0         \n"
     ]
    }
   ],
   "source": [
    "print(f'{\"City\".ljust(12)} : {\"2015-01-01\".ljust(10)} : {\"2020-22-10\".ljust(10)}')\n",
    "\n",
    "# print(f'{\"Paris\".ljust(12)} : {str(paris_past.countElements()).ljust(10)} : {str(paris.countElements()).ljust(10)}')\n",
    "# print(f'{\"Rome\".ljust(12)} : {str(rome_past.countElements()).ljust(10)} : {str(rome.countElements()).ljust(10)}')\n",
    "print(f'{\"Berlin\".ljust(12)} : {str(berlin_past.countElements()).ljust(10)} : {str(berlin.countElements()).ljust(10)}')\n",
    "# print(f'{\"London\".ljust(12)} : {str(london_past.countElements()).ljust(10)} : {str(london.countElements()).ljust(10)}')\n",
    "# print(f'{\"Madrid\".ljust(12)} : {str(madrid_past.countElements()).ljust(10)} : {str(madrid.countElements()).ljust(10)}')\n",
    "# print(f'{\"Viena\".ljust(12)} : {str(viena_past.countElements()).ljust(10)} : {str(viena.countElements()).ljust(10)}')\n",
    "print(f'{\"Moscow\".ljust(12)} : {str(moscow_past.countElements()).ljust(10)} : {str(moscow.countElements()).ljust(10)}')\n",
    "# print(f'{\"Saratov\".ljust(12)} : {str(saratov_past.countElements()).ljust(10)} : {str(saratov.countElements()).ljust(10)}')\n"
   ]
  }
 ],
 "metadata": {
  "kernelspec": {
   "display_name": "Python 3",
   "language": "python",
   "name": "python3"
  },
  "language_info": {
   "codemirror_mode": {
    "name": "ipython",
    "version": 3
   },
   "file_extension": ".py",
   "mimetype": "text/x-python",
   "name": "python",
   "nbconvert_exporter": "python",
   "pygments_lexer": "ipython3",
   "version": "3.7.6"
  }
 },
 "nbformat": 4,
 "nbformat_minor": 4
}
